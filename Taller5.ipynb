{
  "nbformat": 4,
  "nbformat_minor": 0,
  "metadata": {
    "colab": {
      "provenance": []
    },
    "kernelspec": {
      "name": "python3",
      "display_name": "Python 3"
    },
    "language_info": {
      "name": "python"
    }
  },
  "cells": [
    {
      "cell_type": "code",
      "execution_count": null,
      "metadata": {
        "id": "xLVsrKPN24WW"
      },
      "outputs": [],
      "source": [
        "!pip install pyproj"
      ]
    },
    {
      "cell_type": "code",
      "source": [
        "!pip install geopandas"
      ],
      "metadata": {
        "id": "hu_2z1OW27-g"
      },
      "execution_count": null,
      "outputs": []
    },
    {
      "cell_type": "code",
      "source": [
        "!pip uninstall cython\n",
        "!pip install cython\n",
        "!pip uninstall cartopy\n",
        "!pip install cartop"
      ],
      "metadata": {
        "id": "iEZQ0IQr29Gl"
      },
      "execution_count": null,
      "outputs": []
    },
    {
      "cell_type": "code",
      "source": [
        "!apt-get -qq install python-cartopy python3-cartopy\n",
        "!pip uninstall -y shapely    # cartopy and shapely aren't friends (early 2020)\n",
        "!pip install shapely --no-binary shapely"
      ],
      "metadata": {
        "id": "_YDEpG1o2-UF"
      },
      "execution_count": null,
      "outputs": []
    },
    {
      "cell_type": "code",
      "source": [
        "import pandas as pd\n",
        "import pyproj\n",
        "import math\n",
        "import matplotlib.pyplot as plt\n",
        "import seaborn as sb\n",
        "import urllib.request\n",
        "\n",
        "%matplotlib inline\n",
        "import matplotlib.pyplot as plt\n",
        "from matplotlib import cm\n",
        "\n",
        "import numpy as np\n",
        "\n",
        "import cartopy\n",
        "import cartopy.crs as ccrs                   # for projections\n",
        "import cartopy.feature as cfeature           # for features\n",
        "import cartopy.io.shapereader as shapereader\n",
        "from cartopy.mpl.ticker import LongitudeFormatter, LatitudeFormatter\n",
        "from cartopy.feature.nightshade import Nightshade\n",
        "import geopandas as gpd\n",
        "import random\n",
        "from shapely.geometry import Point, Polygon\n",
        "import time"
      ],
      "metadata": {
        "id": "f7cR1CB13Bfm"
      },
      "execution_count": null,
      "outputs": []
    },
    {
      "cell_type": "code",
      "source": [
        "ruta = 'https://raw.githubusercontent.com/fmoreno4/cd-files/main/eventos_dengue_2020.csv'\n",
        "#ruta = 'https://raw.githubusercontent.com/rasief/cartografia/master/melb_data.csv'\n",
        "df1 = pd.read_csv(ruta)\n",
        "df1"
      ],
      "metadata": {
        "colab": {
          "base_uri": "https://localhost:8080/",
          "height": 217
        },
        "id": "x1S9irti3Gqm",
        "outputId": "c19c7f70-c794-49a1-c33b-c2e46c90d852"
      },
      "execution_count": 1,
      "outputs": [
        {
          "output_type": "error",
          "ename": "NameError",
          "evalue": "ignored",
          "traceback": [
            "\u001b[0;31m---------------------------------------------------------------------------\u001b[0m",
            "\u001b[0;31mNameError\u001b[0m                                 Traceback (most recent call last)",
            "\u001b[0;32m<ipython-input-1-a59cc7ad5469>\u001b[0m in \u001b[0;36m<module>\u001b[0;34m\u001b[0m\n\u001b[1;32m      1\u001b[0m \u001b[0mruta\u001b[0m \u001b[0;34m=\u001b[0m \u001b[0;34m'https://raw.githubusercontent.com/fmoreno4/cd-files/main/eventos_dengue_2020.csv'\u001b[0m\u001b[0;34m\u001b[0m\u001b[0;34m\u001b[0m\u001b[0m\n\u001b[1;32m      2\u001b[0m \u001b[0;31m#ruta = 'https://raw.githubusercontent.com/rasief/cartografia/master/melb_data.csv'\u001b[0m\u001b[0;34m\u001b[0m\u001b[0;34m\u001b[0m\u001b[0;34m\u001b[0m\u001b[0m\n\u001b[0;32m----> 3\u001b[0;31m \u001b[0mdf1\u001b[0m \u001b[0;34m=\u001b[0m \u001b[0mpd\u001b[0m\u001b[0;34m.\u001b[0m\u001b[0mread_csv\u001b[0m\u001b[0;34m(\u001b[0m\u001b[0mruta\u001b[0m\u001b[0;34m)\u001b[0m\u001b[0;34m\u001b[0m\u001b[0;34m\u001b[0m\u001b[0m\n\u001b[0m\u001b[1;32m      4\u001b[0m \u001b[0mdf1\u001b[0m\u001b[0;34m\u001b[0m\u001b[0;34m\u001b[0m\u001b[0m\n",
            "\u001b[0;31mNameError\u001b[0m: name 'pd' is not defined"
          ]
        }
      ]
    },
    {
      "cell_type": "code",
      "source": [
        "#Creación de la proyección\n",
        "P1 = pyproj.Proj(proj='utm', zone=18, ellps='WGS84', preserve_units=True)"
      ],
      "metadata": {
        "id": "B11J8tv_3KM-"
      },
      "execution_count": null,
      "outputs": []
    },
    {
      "cell_type": "code",
      "source": [
        "#Se convertirán las coordenadas geográficas a UTM\n",
        "df1['x'], df1['y'] = P1(df1['longitud'], df1['latitud'])\n",
        "df1"
      ],
      "metadata": {
        "id": "PbQpHrtP3NUV"
      },
      "execution_count": null,
      "outputs": []
    },
    {
      "cell_type": "code",
      "source": [
        "subplot_kw = dict(projection=ccrs.PlateCarree())\n",
        "\n",
        "fig, ax = plt.subplots(figsize=(16, 16), subplot_kw=subplot_kw)\n",
        "\n",
        "# Puntos Melbourne\n",
        "lower_lon = -73.13\n",
        "upper_lon = -73.08\n",
        "lower_lat = 7.06\n",
        "upper_lat = 7.10\n",
        "\n",
        "ax.scatter(df1['longitud'], df1['latitud'], zorder=10, c='b', s=10)\n",
        "plt.show()"
      ],
      "metadata": {
        "id": "Aeo_v1LC3P-N"
      },
      "execution_count": null,
      "outputs": []
    },
    {
      "cell_type": "code",
      "source": [
        "#Se carga la cartografía de Melbourne\n",
        "url = 'https://foscal.net/cartografia/'\n",
        "#url = 'https://raw.githubusercontent.com/fmoreno4/cd-files/main/'\n",
        "\n",
        "file_list = [\"68276_urbano.cpg\", \"68276_urbano.dbf\", \"68276_urbano.prj\", \"68276_urbano.qmd\", \"68276_urbano.shp\", \"68276_urbano.shx\"]\n",
        "#file_list = [\"melbourne-metro-region.dbf\", \"melbourne-metro-region.prj\", \"melbourne-metro-region.shp\", \"melbourne-metro-region.shx\"]\n",
        "#file_list = [\"UrbanExtent2015_region.dbf\", \"UrbanExtent2015_region.prj\", \"UrbanExtent2015_region.shp\", \"UrbanExtent2015_region.shx\"]\n",
        "\n",
        "for file in file_list:\n",
        "    urllib.request.urlretrieve(url+file, file)"
      ],
      "metadata": {
        "id": "grx_FxZr3Sgl"
      },
      "execution_count": null,
      "outputs": []
    },
    {
      "cell_type": "code",
      "source": [
        "subplot_kw = dict(projection=ccrs.PlateCarree())\n",
        "\n",
        "fig, ax = plt.subplots(figsize=(16, 16), subplot_kw=subplot_kw)\n",
        "\n",
        "# Mapa de Melbourne\n",
        "lower_lon = -73.13\n",
        "upper_lon = -73.08\n",
        "lower_lat = 7.06\n",
        "upper_lat = 7.10\n",
        "\n",
        "ax.set_extent([lower_lon, upper_lon, lower_lat, upper_lat])\n",
        "\n",
        "reader = shapereader.Reader('68276_urbano.shp')\n",
        "\n",
        "for poli in reader.geometries():\n",
        "    ax.add_geometries([poli], ccrs.PlateCarree(), facecolor='white', edgecolor='gray')\n",
        "\n",
        "plt.show()"
      ],
      "metadata": {
        "id": "zSKUBAR63Ukd"
      },
      "execution_count": null,
      "outputs": []
    },
    {
      "cell_type": "code",
      "source": [
        "subplot_kw = dict(projection=ccrs.PlateCarree())\n",
        "\n",
        "fig, ax = plt.subplots(figsize=(16, 16), subplot_kw=subplot_kw)\n",
        "\n",
        "# Puntos y mapa de Melbourne\n",
        "lower_lon = -73.13\n",
        "upper_lon = -73.08\n",
        "lower_lat = 7.06\n",
        "upper_lat = 7.10\n",
        "\n",
        "ax.set_extent([lower_lon, upper_lon, lower_lat, upper_lat])\n",
        "\n",
        "reader = shapereader.Reader('68276_urbano.shp')\n",
        "\n",
        "for poli in reader.geometries():\n",
        "    ax.add_geometries([poli], ccrs.PlateCarree(), facecolor='white', edgecolor='gray')\n",
        "\n",
        "ax.scatter(df1['longitud'], df1['latitud'], zorder=10, c='b', s=10)\n",
        "\n",
        "plt.show()"
      ],
      "metadata": {
        "id": "zC8_vc7P3WoN"
      },
      "execution_count": null,
      "outputs": []
    }
  ]
}
