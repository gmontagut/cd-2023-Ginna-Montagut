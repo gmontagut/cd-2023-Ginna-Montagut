{
  "nbformat": 4,
  "nbformat_minor": 0,
  "metadata": {
    "colab": {
      "provenance": []
    },
    "kernelspec": {
      "name": "python3",
      "display_name": "Python 3"
    },
    "language_info": {
      "name": "python"
    }
  },
  "cells": [
    {
      "cell_type": "code",
      "execution_count": null,
      "metadata": {
        "colab": {
          "base_uri": "https://localhost:8080/"
        },
        "id": "3Jg0SdBTAcJm",
        "outputId": "6b5a65c4-2eee-42c7-8a3a-870542a2621f"
      },
      "outputs": [
        {
          "output_type": "stream",
          "name": "stdout",
          "text": [
            "Looking in indexes: https://pypi.org/simple, https://us-python.pkg.dev/colab-wheels/public/simple/\n",
            "Requirement already satisfied: matplotlib in /usr/local/lib/python3.9/dist-packages (3.7.1)\n",
            "Requirement already satisfied: numpy in /usr/local/lib/python3.9/dist-packages (1.22.4)\n",
            "Requirement already satisfied: pandas in /usr/local/lib/python3.9/dist-packages (1.4.4)\n",
            "Requirement already satisfied: seaborn in /usr/local/lib/python3.9/dist-packages (0.12.2)\n",
            "Requirement already satisfied: scikit-learn in /usr/local/lib/python3.9/dist-packages (1.2.2)\n",
            "Requirement already satisfied: ipython in /usr/local/lib/python3.9/dist-packages (7.34.0)\n",
            "Requirement already satisfied: cycler>=0.10 in /usr/local/lib/python3.9/dist-packages (from matplotlib) (0.11.0)\n",
            "Requirement already satisfied: packaging>=20.0 in /usr/local/lib/python3.9/dist-packages (from matplotlib) (23.0)\n",
            "Requirement already satisfied: python-dateutil>=2.7 in /usr/local/lib/python3.9/dist-packages (from matplotlib) (2.8.2)\n",
            "Requirement already satisfied: fonttools>=4.22.0 in /usr/local/lib/python3.9/dist-packages (from matplotlib) (4.39.3)\n",
            "Requirement already satisfied: kiwisolver>=1.0.1 in /usr/local/lib/python3.9/dist-packages (from matplotlib) (1.4.4)\n",
            "Requirement already satisfied: contourpy>=1.0.1 in /usr/local/lib/python3.9/dist-packages (from matplotlib) (1.0.7)\n",
            "Requirement already satisfied: pillow>=6.2.0 in /usr/local/lib/python3.9/dist-packages (from matplotlib) (8.4.0)\n",
            "Requirement already satisfied: importlib-resources>=3.2.0 in /usr/local/lib/python3.9/dist-packages (from matplotlib) (5.12.0)\n",
            "Requirement already satisfied: pyparsing>=2.3.1 in /usr/local/lib/python3.9/dist-packages (from matplotlib) (3.0.9)\n",
            "Requirement already satisfied: pytz>=2020.1 in /usr/local/lib/python3.9/dist-packages (from pandas) (2022.7.1)\n",
            "Requirement already satisfied: joblib>=1.1.1 in /usr/local/lib/python3.9/dist-packages (from scikit-learn) (1.1.1)\n",
            "Requirement already satisfied: scipy>=1.3.2 in /usr/local/lib/python3.9/dist-packages (from scikit-learn) (1.10.1)\n",
            "Requirement already satisfied: threadpoolctl>=2.0.0 in /usr/local/lib/python3.9/dist-packages (from scikit-learn) (3.1.0)\n",
            "Requirement already satisfied: setuptools>=18.5 in /usr/local/lib/python3.9/dist-packages (from ipython) (67.6.1)\n",
            "Requirement already satisfied: matplotlib-inline in /usr/local/lib/python3.9/dist-packages (from ipython) (0.1.6)\n",
            "Requirement already satisfied: pickleshare in /usr/local/lib/python3.9/dist-packages (from ipython) (0.7.5)\n",
            "Requirement already satisfied: decorator in /usr/local/lib/python3.9/dist-packages (from ipython) (4.4.2)\n",
            "Requirement already satisfied: pygments in /usr/local/lib/python3.9/dist-packages (from ipython) (2.14.0)\n",
            "Requirement already satisfied: traitlets>=4.2 in /usr/local/lib/python3.9/dist-packages (from ipython) (5.7.1)\n",
            "Requirement already satisfied: prompt-toolkit!=3.0.0,!=3.0.1,<3.1.0,>=2.0.0 in /usr/local/lib/python3.9/dist-packages (from ipython) (3.0.38)\n",
            "Requirement already satisfied: backcall in /usr/local/lib/python3.9/dist-packages (from ipython) (0.2.0)\n",
            "Requirement already satisfied: pexpect>4.3 in /usr/local/lib/python3.9/dist-packages (from ipython) (4.8.0)\n",
            "Collecting jedi>=0.16\n",
            "  Downloading jedi-0.18.2-py2.py3-none-any.whl (1.6 MB)\n",
            "\u001b[2K     \u001b[90m━━━━━━━━━━━━━━━━━━━━━━━━━━━━━━━━━━━━━━━━\u001b[0m \u001b[32m1.6/1.6 MB\u001b[0m \u001b[31m19.1 MB/s\u001b[0m eta \u001b[36m0:00:00\u001b[0m\n",
            "\u001b[?25hRequirement already satisfied: zipp>=3.1.0 in /usr/local/lib/python3.9/dist-packages (from importlib-resources>=3.2.0->matplotlib) (3.15.0)\n",
            "Requirement already satisfied: parso<0.9.0,>=0.8.0 in /usr/local/lib/python3.9/dist-packages (from jedi>=0.16->ipython) (0.8.3)\n",
            "Requirement already satisfied: ptyprocess>=0.5 in /usr/local/lib/python3.9/dist-packages (from pexpect>4.3->ipython) (0.7.0)\n",
            "Requirement already satisfied: wcwidth in /usr/local/lib/python3.9/dist-packages (from prompt-toolkit!=3.0.0,!=3.0.1,<3.1.0,>=2.0.0->ipython) (0.2.6)\n",
            "Requirement already satisfied: six>=1.5 in /usr/local/lib/python3.9/dist-packages (from python-dateutil>=2.7->matplotlib) (1.16.0)\n",
            "Installing collected packages: jedi\n",
            "Successfully installed jedi-0.18.2\n",
            "Looking in indexes: https://pypi.org/simple, https://us-python.pkg.dev/colab-wheels/public/simple/\n",
            "Collecting kneed\n",
            "  Downloading kneed-0.8.2-py3-none-any.whl (10 kB)\n",
            "Requirement already satisfied: numpy>=1.14.2 in /usr/local/lib/python3.9/dist-packages (from kneed) (1.22.4)\n",
            "Requirement already satisfied: scipy>=1.0.0 in /usr/local/lib/python3.9/dist-packages (from kneed) (1.10.1)\n",
            "Installing collected packages: kneed\n",
            "Successfully installed kneed-0.8.2\n"
          ]
        }
      ],
      "source": [
        "!pip install matplotlib numpy pandas seaborn scikit-learn ipython\n",
        "!pip install kneed\n"
      ]
    },
    {
      "cell_type": "code",
      "source": [
        "import matplotlib.pyplot as plt\n",
        "from kneed import KneeLocator\n",
        "from sklearn.datasets import make_blobs\n",
        "from sklearn.cluster import KMeans\n",
        "from sklearn.metrics import silhouette_score\n",
        "from sklearn.preprocessing import StandardScaler"
      ],
      "metadata": {
        "id": "OQLfREfLBJ2I"
      },
      "execution_count": null,
      "outputs": []
    },
    {
      "cell_type": "code",
      "source": [
        "import pandas as pd"
      ],
      "metadata": {
        "id": "NWHH0brFCTPE"
      },
      "execution_count": null,
      "outputs": []
    },
    {
      "cell_type": "code",
      "source": [
        "ruta = 'https://raw.githubusercontent.com/fmoreno4/cd-files/main/eventos_dengue_2020.csv'\n",
        "df = pd.read_csv(ruta)\n",
        "df"
      ],
      "metadata": {
        "colab": {
          "base_uri": "https://localhost:8080/",
          "height": 592
        },
        "id": "fIxY7dBCBMk_",
        "outputId": "1c4db864-24b2-44f4-cae7-3f168de5265a"
      },
      "execution_count": null,
      "outputs": [
        {
          "output_type": "execute_result",
          "data": {
            "text/plain": [
              "        ID     fec_not  semana   año  edad_  uni_med_ sexo_  cod_pais_o  \\\n",
              "0        1  17/01/2020       1  2020     25         1     F         170   \n",
              "1        2  10/01/2020       1  2020     24         1     M         170   \n",
              "2        3  12/01/2020       1  2020     58         1     M         170   \n",
              "3        4  12/01/2020       1  2020     29         1     F         170   \n",
              "4        5  10/01/2020       1  2020     56         1     F         170   \n",
              "...    ...         ...     ...   ...    ...       ...   ...         ...   \n",
              "1257  1258   7/03/2020       9  2020     36         1     F         170   \n",
              "1258  1259  13/03/2020       9  2020     42         1     M         170   \n",
              "1259  1260   8/03/2020       9  2020      2         1     M         170   \n",
              "1260  1261  11/03/2020       9  2020     12         1     F         170   \n",
              "1261  1262   9/03/2020       9  2020     14         1     M         170   \n",
              "\n",
              "      cod_dpto_o  cod_mun_o  ...  hipotension  hepatomegalia  \\\n",
              "0             68        276  ...            2              2   \n",
              "1             68        276  ...            2              2   \n",
              "2             68        276  ...            2              2   \n",
              "3             68        276  ...            2              2   \n",
              "4             68        276  ...            2              2   \n",
              "...          ...        ...  ...          ...            ...   \n",
              "1257          68        276  ...            2              2   \n",
              "1258          68        276  ...            2              2   \n",
              "1259          68        276  ...            2              2   \n",
              "1260          68        276  ...            2              2   \n",
              "1261          68        276  ...            2              2   \n",
              "\n",
              "     hemorragia_mucosa hipotermia  caida_plaquetas  acum_liquido  \\\n",
              "0                    2          2                2             2   \n",
              "1                    2          2                2             2   \n",
              "2                    2          2                2             2   \n",
              "3                    2          2                2             2   \n",
              "4                    2          2                1             2   \n",
              "...                ...        ...              ...           ...   \n",
              "1257                 1          2                2             2   \n",
              "1258                 2          2                1             2   \n",
              "1259                 2          2                2             2   \n",
              "1260                 2          2                2             2   \n",
              "1261                 2          2                2             2   \n",
              "\n",
              "      aum_hematocrito                 conducta   latitud   longitud  \n",
              "0                   2           1. Ambulatorio  7.076011 -73.102501  \n",
              "1                   2           1. Ambulatorio  7.079495 -73.105400  \n",
              "2                   2           1. Ambulatorio  7.090290 -73.091003  \n",
              "3                   2           1. Ambulatorio  7.067435 -73.090958  \n",
              "4                   2  2. Hospitalizacion piso  7.066905 -73.104980  \n",
              "...               ...                      ...       ...        ...  \n",
              "1257                2           1. Ambulatorio  7.072610 -73.099487  \n",
              "1258                1  2. Hospitalizacion piso  7.065252 -73.103607  \n",
              "1259                2           1. Ambulatorio  7.091391 -73.103264  \n",
              "1260                2           1. Ambulatorio  7.061083 -73.097000  \n",
              "1261                2  2. Hospitalizacion piso  7.062521 -73.080444  \n",
              "\n",
              "[1262 rows x 51 columns]"
            ],
            "text/html": [
              "\n",
              "  <div id=\"df-c9613798-5cc8-4ea7-80ab-90425bbf23b0\">\n",
              "    <div class=\"colab-df-container\">\n",
              "      <div>\n",
              "<style scoped>\n",
              "    .dataframe tbody tr th:only-of-type {\n",
              "        vertical-align: middle;\n",
              "    }\n",
              "\n",
              "    .dataframe tbody tr th {\n",
              "        vertical-align: top;\n",
              "    }\n",
              "\n",
              "    .dataframe thead th {\n",
              "        text-align: right;\n",
              "    }\n",
              "</style>\n",
              "<table border=\"1\" class=\"dataframe\">\n",
              "  <thead>\n",
              "    <tr style=\"text-align: right;\">\n",
              "      <th></th>\n",
              "      <th>ID</th>\n",
              "      <th>fec_not</th>\n",
              "      <th>semana</th>\n",
              "      <th>año</th>\n",
              "      <th>edad_</th>\n",
              "      <th>uni_med_</th>\n",
              "      <th>sexo_</th>\n",
              "      <th>cod_pais_o</th>\n",
              "      <th>cod_dpto_o</th>\n",
              "      <th>cod_mun_o</th>\n",
              "      <th>...</th>\n",
              "      <th>hipotension</th>\n",
              "      <th>hepatomegalia</th>\n",
              "      <th>hemorragia_mucosa</th>\n",
              "      <th>hipotermia</th>\n",
              "      <th>caida_plaquetas</th>\n",
              "      <th>acum_liquido</th>\n",
              "      <th>aum_hematocrito</th>\n",
              "      <th>conducta</th>\n",
              "      <th>latitud</th>\n",
              "      <th>longitud</th>\n",
              "    </tr>\n",
              "  </thead>\n",
              "  <tbody>\n",
              "    <tr>\n",
              "      <th>0</th>\n",
              "      <td>1</td>\n",
              "      <td>17/01/2020</td>\n",
              "      <td>1</td>\n",
              "      <td>2020</td>\n",
              "      <td>25</td>\n",
              "      <td>1</td>\n",
              "      <td>F</td>\n",
              "      <td>170</td>\n",
              "      <td>68</td>\n",
              "      <td>276</td>\n",
              "      <td>...</td>\n",
              "      <td>2</td>\n",
              "      <td>2</td>\n",
              "      <td>2</td>\n",
              "      <td>2</td>\n",
              "      <td>2</td>\n",
              "      <td>2</td>\n",
              "      <td>2</td>\n",
              "      <td>1. Ambulatorio</td>\n",
              "      <td>7.076011</td>\n",
              "      <td>-73.102501</td>\n",
              "    </tr>\n",
              "    <tr>\n",
              "      <th>1</th>\n",
              "      <td>2</td>\n",
              "      <td>10/01/2020</td>\n",
              "      <td>1</td>\n",
              "      <td>2020</td>\n",
              "      <td>24</td>\n",
              "      <td>1</td>\n",
              "      <td>M</td>\n",
              "      <td>170</td>\n",
              "      <td>68</td>\n",
              "      <td>276</td>\n",
              "      <td>...</td>\n",
              "      <td>2</td>\n",
              "      <td>2</td>\n",
              "      <td>2</td>\n",
              "      <td>2</td>\n",
              "      <td>2</td>\n",
              "      <td>2</td>\n",
              "      <td>2</td>\n",
              "      <td>1. Ambulatorio</td>\n",
              "      <td>7.079495</td>\n",
              "      <td>-73.105400</td>\n",
              "    </tr>\n",
              "    <tr>\n",
              "      <th>2</th>\n",
              "      <td>3</td>\n",
              "      <td>12/01/2020</td>\n",
              "      <td>1</td>\n",
              "      <td>2020</td>\n",
              "      <td>58</td>\n",
              "      <td>1</td>\n",
              "      <td>M</td>\n",
              "      <td>170</td>\n",
              "      <td>68</td>\n",
              "      <td>276</td>\n",
              "      <td>...</td>\n",
              "      <td>2</td>\n",
              "      <td>2</td>\n",
              "      <td>2</td>\n",
              "      <td>2</td>\n",
              "      <td>2</td>\n",
              "      <td>2</td>\n",
              "      <td>2</td>\n",
              "      <td>1. Ambulatorio</td>\n",
              "      <td>7.090290</td>\n",
              "      <td>-73.091003</td>\n",
              "    </tr>\n",
              "    <tr>\n",
              "      <th>3</th>\n",
              "      <td>4</td>\n",
              "      <td>12/01/2020</td>\n",
              "      <td>1</td>\n",
              "      <td>2020</td>\n",
              "      <td>29</td>\n",
              "      <td>1</td>\n",
              "      <td>F</td>\n",
              "      <td>170</td>\n",
              "      <td>68</td>\n",
              "      <td>276</td>\n",
              "      <td>...</td>\n",
              "      <td>2</td>\n",
              "      <td>2</td>\n",
              "      <td>2</td>\n",
              "      <td>2</td>\n",
              "      <td>2</td>\n",
              "      <td>2</td>\n",
              "      <td>2</td>\n",
              "      <td>1. Ambulatorio</td>\n",
              "      <td>7.067435</td>\n",
              "      <td>-73.090958</td>\n",
              "    </tr>\n",
              "    <tr>\n",
              "      <th>4</th>\n",
              "      <td>5</td>\n",
              "      <td>10/01/2020</td>\n",
              "      <td>1</td>\n",
              "      <td>2020</td>\n",
              "      <td>56</td>\n",
              "      <td>1</td>\n",
              "      <td>F</td>\n",
              "      <td>170</td>\n",
              "      <td>68</td>\n",
              "      <td>276</td>\n",
              "      <td>...</td>\n",
              "      <td>2</td>\n",
              "      <td>2</td>\n",
              "      <td>2</td>\n",
              "      <td>2</td>\n",
              "      <td>1</td>\n",
              "      <td>2</td>\n",
              "      <td>2</td>\n",
              "      <td>2. Hospitalizacion piso</td>\n",
              "      <td>7.066905</td>\n",
              "      <td>-73.104980</td>\n",
              "    </tr>\n",
              "    <tr>\n",
              "      <th>...</th>\n",
              "      <td>...</td>\n",
              "      <td>...</td>\n",
              "      <td>...</td>\n",
              "      <td>...</td>\n",
              "      <td>...</td>\n",
              "      <td>...</td>\n",
              "      <td>...</td>\n",
              "      <td>...</td>\n",
              "      <td>...</td>\n",
              "      <td>...</td>\n",
              "      <td>...</td>\n",
              "      <td>...</td>\n",
              "      <td>...</td>\n",
              "      <td>...</td>\n",
              "      <td>...</td>\n",
              "      <td>...</td>\n",
              "      <td>...</td>\n",
              "      <td>...</td>\n",
              "      <td>...</td>\n",
              "      <td>...</td>\n",
              "      <td>...</td>\n",
              "    </tr>\n",
              "    <tr>\n",
              "      <th>1257</th>\n",
              "      <td>1258</td>\n",
              "      <td>7/03/2020</td>\n",
              "      <td>9</td>\n",
              "      <td>2020</td>\n",
              "      <td>36</td>\n",
              "      <td>1</td>\n",
              "      <td>F</td>\n",
              "      <td>170</td>\n",
              "      <td>68</td>\n",
              "      <td>276</td>\n",
              "      <td>...</td>\n",
              "      <td>2</td>\n",
              "      <td>2</td>\n",
              "      <td>1</td>\n",
              "      <td>2</td>\n",
              "      <td>2</td>\n",
              "      <td>2</td>\n",
              "      <td>2</td>\n",
              "      <td>1. Ambulatorio</td>\n",
              "      <td>7.072610</td>\n",
              "      <td>-73.099487</td>\n",
              "    </tr>\n",
              "    <tr>\n",
              "      <th>1258</th>\n",
              "      <td>1259</td>\n",
              "      <td>13/03/2020</td>\n",
              "      <td>9</td>\n",
              "      <td>2020</td>\n",
              "      <td>42</td>\n",
              "      <td>1</td>\n",
              "      <td>M</td>\n",
              "      <td>170</td>\n",
              "      <td>68</td>\n",
              "      <td>276</td>\n",
              "      <td>...</td>\n",
              "      <td>2</td>\n",
              "      <td>2</td>\n",
              "      <td>2</td>\n",
              "      <td>2</td>\n",
              "      <td>1</td>\n",
              "      <td>2</td>\n",
              "      <td>1</td>\n",
              "      <td>2. Hospitalizacion piso</td>\n",
              "      <td>7.065252</td>\n",
              "      <td>-73.103607</td>\n",
              "    </tr>\n",
              "    <tr>\n",
              "      <th>1259</th>\n",
              "      <td>1260</td>\n",
              "      <td>8/03/2020</td>\n",
              "      <td>9</td>\n",
              "      <td>2020</td>\n",
              "      <td>2</td>\n",
              "      <td>1</td>\n",
              "      <td>M</td>\n",
              "      <td>170</td>\n",
              "      <td>68</td>\n",
              "      <td>276</td>\n",
              "      <td>...</td>\n",
              "      <td>2</td>\n",
              "      <td>2</td>\n",
              "      <td>2</td>\n",
              "      <td>2</td>\n",
              "      <td>2</td>\n",
              "      <td>2</td>\n",
              "      <td>2</td>\n",
              "      <td>1. Ambulatorio</td>\n",
              "      <td>7.091391</td>\n",
              "      <td>-73.103264</td>\n",
              "    </tr>\n",
              "    <tr>\n",
              "      <th>1260</th>\n",
              "      <td>1261</td>\n",
              "      <td>11/03/2020</td>\n",
              "      <td>9</td>\n",
              "      <td>2020</td>\n",
              "      <td>12</td>\n",
              "      <td>1</td>\n",
              "      <td>F</td>\n",
              "      <td>170</td>\n",
              "      <td>68</td>\n",
              "      <td>276</td>\n",
              "      <td>...</td>\n",
              "      <td>2</td>\n",
              "      <td>2</td>\n",
              "      <td>2</td>\n",
              "      <td>2</td>\n",
              "      <td>2</td>\n",
              "      <td>2</td>\n",
              "      <td>2</td>\n",
              "      <td>1. Ambulatorio</td>\n",
              "      <td>7.061083</td>\n",
              "      <td>-73.097000</td>\n",
              "    </tr>\n",
              "    <tr>\n",
              "      <th>1261</th>\n",
              "      <td>1262</td>\n",
              "      <td>9/03/2020</td>\n",
              "      <td>9</td>\n",
              "      <td>2020</td>\n",
              "      <td>14</td>\n",
              "      <td>1</td>\n",
              "      <td>M</td>\n",
              "      <td>170</td>\n",
              "      <td>68</td>\n",
              "      <td>276</td>\n",
              "      <td>...</td>\n",
              "      <td>2</td>\n",
              "      <td>2</td>\n",
              "      <td>2</td>\n",
              "      <td>2</td>\n",
              "      <td>2</td>\n",
              "      <td>2</td>\n",
              "      <td>2</td>\n",
              "      <td>2. Hospitalizacion piso</td>\n",
              "      <td>7.062521</td>\n",
              "      <td>-73.080444</td>\n",
              "    </tr>\n",
              "  </tbody>\n",
              "</table>\n",
              "<p>1262 rows × 51 columns</p>\n",
              "</div>\n",
              "      <button class=\"colab-df-convert\" onclick=\"convertToInteractive('df-c9613798-5cc8-4ea7-80ab-90425bbf23b0')\"\n",
              "              title=\"Convert this dataframe to an interactive table.\"\n",
              "              style=\"display:none;\">\n",
              "        \n",
              "  <svg xmlns=\"http://www.w3.org/2000/svg\" height=\"24px\"viewBox=\"0 0 24 24\"\n",
              "       width=\"24px\">\n",
              "    <path d=\"M0 0h24v24H0V0z\" fill=\"none\"/>\n",
              "    <path d=\"M18.56 5.44l.94 2.06.94-2.06 2.06-.94-2.06-.94-.94-2.06-.94 2.06-2.06.94zm-11 1L8.5 8.5l.94-2.06 2.06-.94-2.06-.94L8.5 2.5l-.94 2.06-2.06.94zm10 10l.94 2.06.94-2.06 2.06-.94-2.06-.94-.94-2.06-.94 2.06-2.06.94z\"/><path d=\"M17.41 7.96l-1.37-1.37c-.4-.4-.92-.59-1.43-.59-.52 0-1.04.2-1.43.59L10.3 9.45l-7.72 7.72c-.78.78-.78 2.05 0 2.83L4 21.41c.39.39.9.59 1.41.59.51 0 1.02-.2 1.41-.59l7.78-7.78 2.81-2.81c.8-.78.8-2.07 0-2.86zM5.41 20L4 18.59l7.72-7.72 1.47 1.35L5.41 20z\"/>\n",
              "  </svg>\n",
              "      </button>\n",
              "      \n",
              "  <style>\n",
              "    .colab-df-container {\n",
              "      display:flex;\n",
              "      flex-wrap:wrap;\n",
              "      gap: 12px;\n",
              "    }\n",
              "\n",
              "    .colab-df-convert {\n",
              "      background-color: #E8F0FE;\n",
              "      border: none;\n",
              "      border-radius: 50%;\n",
              "      cursor: pointer;\n",
              "      display: none;\n",
              "      fill: #1967D2;\n",
              "      height: 32px;\n",
              "      padding: 0 0 0 0;\n",
              "      width: 32px;\n",
              "    }\n",
              "\n",
              "    .colab-df-convert:hover {\n",
              "      background-color: #E2EBFA;\n",
              "      box-shadow: 0px 1px 2px rgba(60, 64, 67, 0.3), 0px 1px 3px 1px rgba(60, 64, 67, 0.15);\n",
              "      fill: #174EA6;\n",
              "    }\n",
              "\n",
              "    [theme=dark] .colab-df-convert {\n",
              "      background-color: #3B4455;\n",
              "      fill: #D2E3FC;\n",
              "    }\n",
              "\n",
              "    [theme=dark] .colab-df-convert:hover {\n",
              "      background-color: #434B5C;\n",
              "      box-shadow: 0px 1px 3px 1px rgba(0, 0, 0, 0.15);\n",
              "      filter: drop-shadow(0px 1px 2px rgba(0, 0, 0, 0.3));\n",
              "      fill: #FFFFFF;\n",
              "    }\n",
              "  </style>\n",
              "\n",
              "      <script>\n",
              "        const buttonEl =\n",
              "          document.querySelector('#df-c9613798-5cc8-4ea7-80ab-90425bbf23b0 button.colab-df-convert');\n",
              "        buttonEl.style.display =\n",
              "          google.colab.kernel.accessAllowed ? 'block' : 'none';\n",
              "\n",
              "        async function convertToInteractive(key) {\n",
              "          const element = document.querySelector('#df-c9613798-5cc8-4ea7-80ab-90425bbf23b0');\n",
              "          const dataTable =\n",
              "            await google.colab.kernel.invokeFunction('convertToInteractive',\n",
              "                                                     [key], {});\n",
              "          if (!dataTable) return;\n",
              "\n",
              "          const docLinkHtml = 'Like what you see? Visit the ' +\n",
              "            '<a target=\"_blank\" href=https://colab.research.google.com/notebooks/data_table.ipynb>data table notebook</a>'\n",
              "            + ' to learn more about interactive tables.';\n",
              "          element.innerHTML = '';\n",
              "          dataTable['output_type'] = 'display_data';\n",
              "          await google.colab.output.renderOutput(dataTable, element);\n",
              "          const docLink = document.createElement('div');\n",
              "          docLink.innerHTML = docLinkHtml;\n",
              "          element.appendChild(docLink);\n",
              "        }\n",
              "      </script>\n",
              "    </div>\n",
              "  </div>\n",
              "  "
            ]
          },
          "metadata": {},
          "execution_count": 17
        }
      ]
    },
    {
      "cell_type": "code",
      "source": [
        "print(df.columns)"
      ],
      "metadata": {
        "colab": {
          "base_uri": "https://localhost:8080/"
        },
        "id": "vacFXxsJIU18",
        "outputId": "df98f364-29ec-41e4-bd18-de5295521ddf"
      },
      "execution_count": null,
      "outputs": [
        {
          "output_type": "stream",
          "name": "stdout",
          "text": [
            "Index(['ID', 'fec_not', 'semana', 'año', 'edad_', 'uni_med_', 'sexo_',\n",
            "       'cod_pais_o', 'cod_dpto_o', 'cod_mun_o', 'area_', 'ocupacion_',\n",
            "       'tip_ss_', 'cod_ase_', 'gp_discapa', 'gp_desplaz', 'gp_migrant',\n",
            "       'gp_carcela', 'gp_gestan', 'gp_calle', 'gp_psiquia', 'gp_vic_vio',\n",
            "       'fecha_contagio', 'inicio_sintomas', 'pac_hos_', 'fec_hos_',\n",
            "       'condicion_final', 'fecha_defuncion', 'fecha_nacimiento',\n",
            "       'certif_defuncion', 'familiar_sintomas', 'fiebre', 'cefalea',\n",
            "       'dolor_retroocular', 'mialgias', 'artralgia', 'erupcion',\n",
            "       'dolor_abdomen', 'vomito', 'diarrea', 'somnolencia', 'hipotension',\n",
            "       'hepatomegalia', 'hemorragia_mucosa', 'hipotermia', 'caida_plaquetas',\n",
            "       'acum_liquido', 'aum_hematocrito', 'conducta', 'latitud', 'longitud'],\n",
            "      dtype='object')\n"
          ]
        }
      ]
    },
    {
      "cell_type": "code",
      "source": [
        "df['sexo_'].replace({'H': 0, 'M': 1}, inplace=True)\n",
        "print(df['sexo_'])"
      ],
      "metadata": {
        "colab": {
          "base_uri": "https://localhost:8080/"
        },
        "id": "liKIm7HSwQQp",
        "outputId": "39830105-80b2-4995-e124-8c34a9a15763"
      },
      "execution_count": null,
      "outputs": [
        {
          "output_type": "stream",
          "name": "stdout",
          "text": [
            "0       1\n",
            "1       0\n",
            "2       0\n",
            "3       1\n",
            "4       1\n",
            "       ..\n",
            "1257    1\n",
            "1258    0\n",
            "1259    0\n",
            "1260    1\n",
            "1261    0\n",
            "Name: sexo_, Length: 1262, dtype: int64\n"
          ]
        }
      ]
    },
    {
      "cell_type": "code",
      "source": [
        "import numpy as np"
      ],
      "metadata": {
        "id": "bk1vrTTeNW1D"
      },
      "execution_count": null,
      "outputs": []
    },
    {
      "cell_type": "code",
      "source": [
        "# Generar puntos de datos\n",
        "X, y = make_blobs(n_samples=300, centers=3, random_state=42)\n",
        "kmeans = KMeans(n_clusters=3, random_state=42)\n",
        "kmeans.fit(X)\n",
        "centroids = kmeans.cluster_centers_\n",
        "plt.scatter(X[:, 0], X[:, 1], c=y)\n",
        "plt.scatter(centroids[:, 0], centroids[:, 1], marker='*', s=200, c='r')\n",
        "plt.show()"
      ],
      "metadata": {
        "colab": {
          "base_uri": "https://localhost:8080/",
          "height": 465
        },
        "id": "I8SkiN2YxzEo",
        "outputId": "2172ebdc-9f7b-4eac-8137-93286a34f085"
      },
      "execution_count": null,
      "outputs": [
        {
          "output_type": "stream",
          "name": "stderr",
          "text": [
            "/usr/local/lib/python3.9/dist-packages/sklearn/cluster/_kmeans.py:870: FutureWarning: The default value of `n_init` will change from 10 to 'auto' in 1.4. Set the value of `n_init` explicitly to suppress the warning\n",
            "  warnings.warn(\n"
          ]
        },
        {
          "output_type": "display_data",
          "data": {
            "text/plain": [
              "<Figure size 640x480 with 1 Axes>"
            ],
            "image/png": "[encoded data removed]"
          },
          "metadata": {}
        }
      ]
    },
    {
      "cell_type": "code",
      "source": [
        "features = df\n",
        "centers = np.random.rand(3, 2) * 20\n",
        "features, true_labels = make_blobs(\n",
        "  n_samples=200,\n",
        "  centers=centers,\n",
        "  cluster_std=2.75,\n",
        "  random_state=42\n",
        ")"
      ],
      "metadata": {
        "id": "d-n8y1jSJlvj"
      },
      "execution_count": null,
      "outputs": []
    },
    {
      "cell_type": "code",
      "source": [
        "features[:10]"
      ],
      "metadata": {
        "colab": {
          "base_uri": "https://localhost:8080/"
        },
        "id": "sUWtZg_9NcSS",
        "outputId": "fa64a234-0ab8-4bda-e6d4-7ff43bf80b99"
      },
      "execution_count": null,
      "outputs": [
        {
          "output_type": "execute_result",
          "data": {
            "text/plain": [
              "array([[13.52467872,  5.49702672],\n",
              "       [ 9.13800171, 10.18137233],\n",
              "       [13.69752848,  8.73123232],\n",
              "       [18.13711983, 13.36216493],\n",
              "       [ 7.69538294, 14.9032478 ],\n",
              "       [12.18435019, 10.25618269],\n",
              "       [ 7.26669912, 15.18586112],\n",
              "       [ 5.0981169 , 18.92429056],\n",
              "       [ 5.28671236, 20.67322111],\n",
              "       [ 6.23963472, 20.4161948 ]])"
            ]
          },
          "metadata": {},
          "execution_count": 33
        }
      ]
    },
    {
      "cell_type": "code",
      "source": [
        "true_labels"
      ],
      "metadata": {
        "colab": {
          "base_uri": "https://localhost:8080/"
        },
        "id": "Bep7Zf25NxBy",
        "outputId": "d50effd6-a72b-4b91-9be3-803825d11a9b"
      },
      "execution_count": null,
      "outputs": [
        {
          "output_type": "execute_result",
          "data": {
            "text/plain": [
              "array([0, 0, 0, 2, 1, 0, 1, 1, 1, 1, 0, 1, 1, 2, 0, 2, 1, 2, 1, 1, 0, 0,\n",
              "       0, 2, 2, 2, 2, 1, 0, 2, 1, 2, 1, 0, 0, 0, 2, 1, 1, 2, 2, 2, 0, 2,\n",
              "       0, 2, 0, 0, 2, 0, 0, 0, 1, 1, 1, 2, 2, 0, 1, 1, 0, 1, 2, 2, 0, 0,\n",
              "       0, 1, 2, 2, 1, 1, 0, 1, 1, 0, 0, 2, 2, 0, 1, 2, 0, 2, 0, 2, 0, 2,\n",
              "       2, 2, 1, 2, 0, 2, 0, 2, 2, 0, 0, 0, 2, 0, 2, 2, 1, 0, 1, 1, 0, 0,\n",
              "       0, 1, 1, 2, 0, 0, 1, 2, 1, 2, 2, 1, 1, 1, 2, 2, 0, 1, 1, 2, 2, 2,\n",
              "       1, 1, 0, 1, 1, 0, 2, 1, 2, 1, 2, 2, 0, 1, 1, 0, 1, 1, 2, 0, 1, 1,\n",
              "       0, 2, 2, 2, 0, 1, 2, 0, 2, 0, 0, 0, 1, 2, 1, 2, 2, 0, 1, 2, 1, 0,\n",
              "       0, 1, 0, 2, 0, 0, 1, 1, 1, 2, 1, 2, 0, 0, 2, 0, 1, 1, 1, 0, 0, 2,\n",
              "       1, 1])"
            ]
          },
          "metadata": {},
          "execution_count": 34
        }
      ]
    },
    {
      "cell_type": "code",
      "source": [
        "scaler = StandardScaler()\n",
        "scaled_features = scaler.fit_transform(features)\n",
        "scaled_features[:10]"
      ],
      "metadata": {
        "colab": {
          "base_uri": "https://localhost:8080/"
        },
        "id": "_kqvtakYNyL6",
        "outputId": "a4de279c-2a56-4808-c28c-07bea7afd11a"
      },
      "execution_count": null,
      "outputs": [
        {
          "output_type": "execute_result",
          "data": {
            "text/plain": [
              "array([[ 0.41284159, -1.89957865],\n",
              "       [-0.41195634, -0.91557753],\n",
              "       [ 0.44534139, -1.22019626],\n",
              "       [ 1.28008846, -0.24741515],\n",
              "       [-0.68320243,  0.07630718],\n",
              "       [ 0.16082846, -0.89986274],\n",
              "       [-0.76380502,  0.13567339],\n",
              "       [-1.17154923,  0.92097385],\n",
              "       [-1.13608887,  1.288357  ],\n",
              "       [-0.95691717,  1.23436564]])"
            ]
          },
          "metadata": {},
          "execution_count": 35
        }
      ]
    },
    {
      "cell_type": "code",
      "source": [
        "kmeans = KMeans(\n",
        "  init=centroids,\n",
        "  n_clusters=3,\n",
        "  n_init=10,\n",
        "  max_iter=300,\n",
        "  random_state=42\n",
        ")"
      ],
      "metadata": {
        "id": "jTgek20Yy4pR"
      },
      "execution_count": null,
      "outputs": []
    },
    {
      "cell_type": "code",
      "source": [
        "kmeans = KMeans(n_clusters=3, init=centroids, n_init=1)"
      ],
      "metadata": {
        "id": "pH_CfFeo0zRY"
      },
      "execution_count": null,
      "outputs": []
    },
    {
      "cell_type": "code",
      "source": [
        "kmeans.fit(scaled_features)"
      ],
      "metadata": {
        "colab": {
          "base_uri": "https://localhost:8080/",
          "height": 127
        },
        "id": "qaLrpYOHzlYp",
        "outputId": "eb74f731-9411-41bc-aac6-566ba56743b8"
      },
      "execution_count": null,
      "outputs": [
        {
          "output_type": "execute_result",
          "data": {
            "text/plain": [
              "KMeans(init=array([[ 4.74710337,  2.01059427],\n",
              "       [-6.88387179, -6.98398415],\n",
              "       [-2.63323268,  9.04356978]]),\n",
              "       n_clusters=3, n_init=1)"
            ],
            "text/html": [
              "<style>#sk-container-id-2 {color: black;background-color: white;}#sk-container-id-2 pre{padding: 0;}#sk-container-id-2 div.sk-toggleable {background-color: white;}#sk-container-id-2 label.sk-toggleable__label {cursor: pointer;display: block;width: 100%;margin-bottom: 0;padding: 0.3em;box-sizing: border-box;text-align: center;}#sk-container-id-2 label.sk-toggleable__label-arrow:before {content: \"▸\";float: left;margin-right: 0.25em;color: #696969;}#sk-container-id-2 label.sk-toggleable__label-arrow:hover:before {color: black;}#sk-container-id-2 div.sk-estimator:hover label.sk-toggleable__label-arrow:before {color: black;}#sk-container-id-2 div.sk-toggleable__content {max-height: 0;max-width: 0;overflow: hidden;text-align: left;background-color: #f0f8ff;}#sk-container-id-2 div.sk-toggleable__content pre {margin: 0.2em;color: black;border-radius: 0.25em;background-color: #f0f8ff;}#sk-container-id-2 input.sk-toggleable__control:checked~div.sk-toggleable__content {max-height: 200px;max-width: 100%;overflow: auto;}#sk-container-id-2 input.sk-toggleable__control:checked~label.sk-toggleable__label-arrow:before {content: \"▾\";}#sk-container-id-2 div.sk-estimator input.sk-toggleable__control:checked~label.sk-toggleable__label {background-color: #d4ebff;}#sk-container-id-2 div.sk-label input.sk-toggleable__control:checked~label.sk-toggleable__label {background-color: #d4ebff;}#sk-container-id-2 input.sk-hidden--visually {border: 0;clip: rect(1px 1px 1px 1px);clip: rect(1px, 1px, 1px, 1px);height: 1px;margin: -1px;overflow: hidden;padding: 0;position: absolute;width: 1px;}#sk-container-id-2 div.sk-estimator {font-family: monospace;background-color: #f0f8ff;border: 1px dotted black;border-radius: 0.25em;box-sizing: border-box;margin-bottom: 0.5em;}#sk-container-id-2 div.sk-estimator:hover {background-color: #d4ebff;}#sk-container-id-2 div.sk-parallel-item::after {content: \"\";width: 100%;border-bottom: 1px solid gray;flex-grow: 1;}#sk-container-id-2 div.sk-label:hover label.sk-toggleable__label {background-color: #d4ebff;}#sk-container-id-2 div.sk-serial::before {content: \"\";position: absolute;border-left: 1px solid gray;box-sizing: border-box;top: 0;bottom: 0;left: 50%;z-index: 0;}#sk-container-id-2 div.sk-serial {display: flex;flex-direction: column;align-items: center;background-color: white;padding-right: 0.2em;padding-left: 0.2em;position: relative;}#sk-container-id-2 div.sk-item {position: relative;z-index: 1;}#sk-container-id-2 div.sk-parallel {display: flex;align-items: stretch;justify-content: center;background-color: white;position: relative;}#sk-container-id-2 div.sk-item::before, #sk-container-id-2 div.sk-parallel-item::before {content: \"\";position: absolute;border-left: 1px solid gray;box-sizing: border-box;top: 0;bottom: 0;left: 50%;z-index: -1;}#sk-container-id-2 div.sk-parallel-item {display: flex;flex-direction: column;z-index: 1;position: relative;background-color: white;}#sk-container-id-2 div.sk-parallel-item:first-child::after {align-self: flex-end;width: 50%;}#sk-container-id-2 div.sk-parallel-item:last-child::after {align-self: flex-start;width: 50%;}#sk-container-id-2 div.sk-parallel-item:only-child::after {width: 0;}#sk-container-id-2 div.sk-dashed-wrapped {border: 1px dashed gray;margin: 0 0.4em 0.5em 0.4em;box-sizing: border-box;padding-bottom: 0.4em;background-color: white;}#sk-container-id-2 div.sk-label label {font-family: monospace;font-weight: bold;display: inline-block;line-height: 1.2em;}#sk-container-id-2 div.sk-label-container {text-align: center;}#sk-container-id-2 div.sk-container {/* jupyter's `normalize.less` sets `[hidden] { display: none; }` but bootstrap.min.css set `[hidden] { display: none !important; }` so we also need the `!important` here to be able to override the default hidden behavior on the sphinx rendered scikit-learn.org. See: https://github.com/scikit-learn/scikit-learn/issues/21755 */display: inline-block !important;position: relative;}#sk-container-id-2 div.sk-text-repr-fallback {display: none;}</style><div id=\"sk-container-id-2\" class=\"sk-top-container\"><div class=\"sk-text-repr-fallback\"><pre>KMeans(init=array([[ 4.74710337,  2.01059427],\n",
              "       [-6.88387179, -6.98398415],\n",
              "       [-2.63323268,  9.04356978]]),\n",
              "       n_clusters=3, n_init=1)</pre><b>In a Jupyter environment, please rerun this cell to show the HTML representation or trust the notebook. <br />On GitHub, the HTML representation is unable to render, please try loading this page with nbviewer.org.</b></div><div class=\"sk-container\" hidden><div class=\"sk-item\"><div class=\"sk-estimator sk-toggleable\"><input class=\"sk-toggleable__control sk-hidden--visually\" id=\"sk-estimator-id-2\" type=\"checkbox\" checked><label for=\"sk-estimator-id-2\" class=\"sk-toggleable__label sk-toggleable__label-arrow\">KMeans</label><div class=\"sk-toggleable__content\"><pre>KMeans(init=array([[ 4.74710337,  2.01059427],\n",
              "       [-6.88387179, -6.98398415],\n",
              "       [-2.63323268,  9.04356978]]),\n",
              "       n_clusters=3, n_init=1)</pre></div></div></div></div></div>"
            ]
          },
          "metadata": {},
          "execution_count": 49
        }
      ]
    },
    {
      "cell_type": "code",
      "source": [
        "kmeans.inertia_"
      ],
      "metadata": {
        "colab": {
          "base_uri": "https://localhost:8080/"
        },
        "id": "B89HnyXcz3Ko",
        "outputId": "b9d0f4ef-618d-4d2e-96be-0b6893983976"
      },
      "execution_count": null,
      "outputs": [
        {
          "output_type": "execute_result",
          "data": {
            "text/plain": [
              "102.70147916317478"
            ]
          },
          "metadata": {},
          "execution_count": 50
        }
      ]
    },
    {
      "cell_type": "code",
      "source": [
        "kmeans.cluster_centers_"
      ],
      "metadata": {
        "colab": {
          "base_uri": "https://localhost:8080/"
        },
        "id": "uatJjl2D0AAB",
        "outputId": "80deb9c6-3457-4b66-8ed7-beeea752ad56"
      },
      "execution_count": null,
      "outputs": [
        {
          "output_type": "execute_result",
          "data": {
            "text/plain": [
              "array([[ 1.26337343,  0.21565289],\n",
              "       [-0.80155125,  0.90243685],\n",
              "       [-0.35713955, -1.11550404]])"
            ]
          },
          "metadata": {},
          "execution_count": 51
        }
      ]
    },
    {
      "cell_type": "code",
      "source": [
        "kmeans.n_iter_"
      ],
      "metadata": {
        "colab": {
          "base_uri": "https://localhost:8080/"
        },
        "id": "DolxbhLn0Drw",
        "outputId": "19ba87e4-c9ed-4312-d95a-c00c760cffd7"
      },
      "execution_count": null,
      "outputs": [
        {
          "output_type": "execute_result",
          "data": {
            "text/plain": [
              "8"
            ]
          },
          "metadata": {},
          "execution_count": 52
        }
      ]
    },
    {
      "cell_type": "code",
      "source": [
        "kmeans.labels_"
      ],
      "metadata": {
        "colab": {
          "base_uri": "https://localhost:8080/"
        },
        "id": "ASoTnV0q0HBJ",
        "outputId": "bd4801d9-4521-466a-c31a-d839742f2fbf"
      },
      "execution_count": null,
      "outputs": [
        {
          "output_type": "execute_result",
          "data": {
            "text/plain": [
              "array([2, 2, 2, 0, 1, 2, 1, 1, 1, 1, 2, 1, 1, 0, 2, 0, 1, 0, 1, 1, 2, 2,\n",
              "       2, 0, 0, 0, 0, 1, 2, 0, 1, 1, 1, 2, 2, 2, 0, 1, 1, 0, 0, 0, 2, 0,\n",
              "       2, 0, 2, 2, 0, 2, 2, 2, 1, 1, 1, 0, 0, 2, 1, 1, 2, 1, 0, 0, 2, 2,\n",
              "       2, 2, 0, 0, 1, 1, 2, 1, 1, 2, 1, 0, 0, 2, 1, 0, 2, 0, 2, 0, 2, 0,\n",
              "       0, 0, 1, 0, 2, 0, 2, 0, 0, 2, 2, 2, 0, 2, 0, 0, 1, 2, 1, 1, 2, 2,\n",
              "       2, 1, 1, 0, 2, 1, 1, 2, 1, 1, 0, 1, 0, 1, 0, 0, 2, 1, 1, 0, 0, 0,\n",
              "       1, 1, 2, 1, 1, 2, 0, 1, 0, 1, 0, 0, 2, 1, 1, 2, 1, 1, 0, 2, 1, 1,\n",
              "       2, 0, 0, 0, 2, 2, 0, 1, 0, 2, 2, 2, 1, 2, 1, 0, 0, 2, 1, 0, 1, 2,\n",
              "       2, 1, 2, 0, 2, 2, 1, 1, 1, 0, 1, 0, 2, 2, 0, 2, 1, 1, 1, 2, 2, 0,\n",
              "       1, 1], dtype=int32)"
            ]
          },
          "metadata": {},
          "execution_count": 53
        }
      ]
    },
    {
      "cell_type": "code",
      "source": [
        "kmeans_kwargs = {\n",
        "  \"init\": \"k-means++\",\n",
        "  \"n_init\": 10,\n",
        "  \"max_iter\": 300,\n",
        "  \"random_state\": 42,\n",
        "}\n",
        "\n",
        "sse = []\n",
        "for k in range(1, 11):\n",
        "  kmeans = KMeans(n_clusters=k, **kmeans_kwargs)\n",
        "  kmeans.fit(scaled_features)\n",
        "  sse.append(kmeans.inertia_)"
      ],
      "metadata": {
        "id": "dxYjN6hj0LqZ"
      },
      "execution_count": null,
      "outputs": []
    },
    {
      "cell_type": "code",
      "source": [
        "plt.style.use(\"fivethirtyeight\")\n",
        "plt.plot(range(1, 11), sse)\n",
        "plt.xticks(range(1, 11))\n",
        "plt.xlabel(\"Number of Clusters\")\n",
        "plt.ylabel(\"SSE\")\n",
        "plt.show()"
      ],
      "metadata": {
        "colab": {
          "base_uri": "https://localhost:8080/",
          "height": 478
        },
        "id": "ysshwIwd1Ena",
        "outputId": "60a535d1-4394-4bc3-f5f6-926a97a31884"
      },
      "execution_count": null,
      "outputs": [
        {
          "output_type": "display_data",
          "data": {
            "text/plain": [
              "<Figure size 640x480 with 1 Axes>"
            ],
            "image/png": "[encoded data removed]"
          },
          "metadata": {}
        }
      ]
    },
    {
      "cell_type": "code",
      "source": [
        "kl = KneeLocator(\n",
        "  range(1, 11), sse, curve=\"convex\", direction=\"decreasing\"\n",
        ")\n",
        "kl.elbow"
      ],
      "metadata": {
        "colab": {
          "base_uri": "https://localhost:8080/"
        },
        "id": "RoQOGfNU1IDJ",
        "outputId": "769d4644-90ac-46d6-81b0-3c019181f31a"
      },
      "execution_count": null,
      "outputs": [
        {
          "output_type": "execute_result",
          "data": {
            "text/plain": [
              "3"
            ]
          },
          "metadata": {},
          "execution_count": 57
        }
      ]
    },
    {
      "cell_type": "code",
      "source": [
        "silhouette_coefficients = []\n",
        "\n",
        "#Aquí se inicia con 2 cluester\n",
        "for k in range(2, 11):\n",
        "  kmeans = KMeans(n_clusters=k, **kmeans_kwargs)\n",
        "  kmeans.fit(scaled_features)\n",
        "  score = silhouette_score(scaled_features, kmeans.labels_)\n",
        "  silhouette_coefficients.append(score)"
      ],
      "metadata": {
        "id": "vdoth4zy1KaQ"
      },
      "execution_count": null,
      "outputs": []
    },
    {
      "cell_type": "code",
      "source": [
        "plt.style.use(\"fivethirtyeight\")\n",
        "plt.plot(range(2, 11), silhouette_coefficients)\n",
        "plt.xticks(range(2, 11))\n",
        "plt.xlabel(\"Number of Clusters\")\n",
        "plt.ylabel(\"Silhouette Coefficient\")\n",
        "plt.show()"
      ],
      "metadata": {
        "id": "0fZevj1R1VBa",
        "outputId": "1066bd7f-3505-434d-d22a-0bb33cac6676",
        "colab": {
          "base_uri": "https://localhost:8080/",
          "height": 478
        }
      },
      "execution_count": null,
      "outputs": [
        {
          "output_type": "display_data",
          "data": {
            "text/plain": [
              "<Figure size 640x480 with 1 Axes>"
            ],
            "image/png": "[encoded data removed]"
          },
          "metadata": {}
        }
      ]
    }
  ]
}
