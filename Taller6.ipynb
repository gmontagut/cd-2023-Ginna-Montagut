{
  "nbformat": 4,
  "nbformat_minor": 0,
  "metadata": {
    "colab": {
      "provenance": []
    },
    "kernelspec": {
      "name": "python3",
      "display_name": "Python 3"
    },
    "language_info": {
      "name": "python"
    }
  },
  "cells": [
    {
      "cell_type": "code",
      "execution_count": 2,
      "metadata": {
        "colab": {
          "base_uri": "https://localhost:8080/"
        },
        "id": "qs_bDO7sBdiJ",
        "outputId": "c6e49ca7-bbc2-4be4-ca4c-ef3bf7fe486f"
      },
      "outputs": [
        {
          "output_type": "stream",
          "name": "stdout",
          "text": [
            "Looking in indexes: https://pypi.org/simple, https://us-python.pkg.dev/colab-wheels/public/simple/\n",
            "Requirement already satisfied: matplotlib in /usr/local/lib/python3.9/dist-packages (3.7.1)\n",
            "Requirement already satisfied: numpy in /usr/local/lib/python3.9/dist-packages (1.22.4)\n",
            "Requirement already satisfied: pandas in /usr/local/lib/python3.9/dist-packages (1.4.4)\n",
            "Requirement already satisfied: seaborn in /usr/local/lib/python3.9/dist-packages (0.12.2)\n",
            "Requirement already satisfied: scikit-learn in /usr/local/lib/python3.9/dist-packages (1.2.2)\n",
            "Requirement already satisfied: ipython in /usr/local/lib/python3.9/dist-packages (7.34.0)\n",
            "Requirement already satisfied: cycler>=0.10 in /usr/local/lib/python3.9/dist-packages (from matplotlib) (0.11.0)\n",
            "Requirement already satisfied: importlib-resources>=3.2.0 in /usr/local/lib/python3.9/dist-packages (from matplotlib) (5.12.0)\n",
            "Requirement already satisfied: pillow>=6.2.0 in /usr/local/lib/python3.9/dist-packages (from matplotlib) (8.4.0)\n",
            "Requirement already satisfied: pyparsing>=2.3.1 in /usr/local/lib/python3.9/dist-packages (from matplotlib) (3.0.9)\n",
            "Requirement already satisfied: packaging>=20.0 in /usr/local/lib/python3.9/dist-packages (from matplotlib) (23.0)\n",
            "Requirement already satisfied: python-dateutil>=2.7 in /usr/local/lib/python3.9/dist-packages (from matplotlib) (2.8.2)\n",
            "Requirement already satisfied: contourpy>=1.0.1 in /usr/local/lib/python3.9/dist-packages (from matplotlib) (1.0.7)\n",
            "Requirement already satisfied: kiwisolver>=1.0.1 in /usr/local/lib/python3.9/dist-packages (from matplotlib) (1.4.4)\n",
            "Requirement already satisfied: fonttools>=4.22.0 in /usr/local/lib/python3.9/dist-packages (from matplotlib) (4.39.3)\n",
            "Requirement already satisfied: pytz>=2020.1 in /usr/local/lib/python3.9/dist-packages (from pandas) (2022.7.1)\n",
            "Requirement already satisfied: threadpoolctl>=2.0.0 in /usr/local/lib/python3.9/dist-packages (from scikit-learn) (3.1.0)\n",
            "Requirement already satisfied: joblib>=1.1.1 in /usr/local/lib/python3.9/dist-packages (from scikit-learn) (1.1.1)\n",
            "Requirement already satisfied: scipy>=1.3.2 in /usr/local/lib/python3.9/dist-packages (from scikit-learn) (1.10.1)\n",
            "Requirement already satisfied: pickleshare in /usr/local/lib/python3.9/dist-packages (from ipython) (0.7.5)\n",
            "Requirement already satisfied: setuptools>=18.5 in /usr/local/lib/python3.9/dist-packages (from ipython) (67.6.1)\n",
            "Requirement already satisfied: traitlets>=4.2 in /usr/local/lib/python3.9/dist-packages (from ipython) (5.7.1)\n",
            "Collecting jedi>=0.16\n",
            "  Downloading jedi-0.18.2-py2.py3-none-any.whl (1.6 MB)\n",
            "\u001b[2K     \u001b[90m━━━━━━━━━━━━━━━━━━━━━━━━━━━━━━━━━━━━━━━━\u001b[0m \u001b[32m1.6/1.6 MB\u001b[0m \u001b[31m39.7 MB/s\u001b[0m eta \u001b[36m0:00:00\u001b[0m\n",
            "\u001b[?25hRequirement already satisfied: prompt-toolkit!=3.0.0,!=3.0.1,<3.1.0,>=2.0.0 in /usr/local/lib/python3.9/dist-packages (from ipython) (3.0.38)\n",
            "Requirement already satisfied: pygments in /usr/local/lib/python3.9/dist-packages (from ipython) (2.14.0)\n",
            "Requirement already satisfied: pexpect>4.3 in /usr/local/lib/python3.9/dist-packages (from ipython) (4.8.0)\n",
            "Requirement already satisfied: matplotlib-inline in /usr/local/lib/python3.9/dist-packages (from ipython) (0.1.6)\n",
            "Requirement already satisfied: decorator in /usr/local/lib/python3.9/dist-packages (from ipython) (4.4.2)\n",
            "Requirement already satisfied: backcall in /usr/local/lib/python3.9/dist-packages (from ipython) (0.2.0)\n",
            "Requirement already satisfied: zipp>=3.1.0 in /usr/local/lib/python3.9/dist-packages (from importlib-resources>=3.2.0->matplotlib) (3.15.0)\n",
            "Requirement already satisfied: parso<0.9.0,>=0.8.0 in /usr/local/lib/python3.9/dist-packages (from jedi>=0.16->ipython) (0.8.3)\n",
            "Requirement already satisfied: ptyprocess>=0.5 in /usr/local/lib/python3.9/dist-packages (from pexpect>4.3->ipython) (0.7.0)\n",
            "Requirement already satisfied: wcwidth in /usr/local/lib/python3.9/dist-packages (from prompt-toolkit!=3.0.0,!=3.0.1,<3.1.0,>=2.0.0->ipython) (0.2.6)\n",
            "Requirement already satisfied: six>=1.5 in /usr/local/lib/python3.9/dist-packages (from python-dateutil>=2.7->matplotlib) (1.16.0)\n",
            "Installing collected packages: jedi\n",
            "Successfully installed jedi-0.18.2\n",
            "Looking in indexes: https://pypi.org/simple, https://us-python.pkg.dev/colab-wheels/public/simple/\n",
            "Collecting kneed\n",
            "  Downloading kneed-0.8.2-py3-none-any.whl (10 kB)\n",
            "Requirement already satisfied: scipy>=1.0.0 in /usr/local/lib/python3.9/dist-packages (from kneed) (1.10.1)\n",
            "Requirement already satisfied: numpy>=1.14.2 in /usr/local/lib/python3.9/dist-packages (from kneed) (1.22.4)\n",
            "Installing collected packages: kneed\n",
            "Successfully installed kneed-0.8.2\n"
          ]
        }
      ],
      "source": [
        "!pip install matplotlib numpy pandas seaborn scikit-learn ipython\n",
        "!pip install kneed"
      ]
    },
    {
      "cell_type": "code",
      "source": [
        "import matplotlib.pyplot as plt\n",
        "from kneed import KneeLocator\n",
        "from sklearn.datasets import make_blobs\n",
        "from sklearn.cluster import KMeans\n",
        "from sklearn.metrics import silhouette_score\n",
        "from sklearn.preprocessing import StandardScaler\n",
        "import numpy as np\n",
        "import pandas as pd"
      ],
      "metadata": {
        "id": "GlJ82_aSBgOg"
      },
      "execution_count": 3,
      "outputs": []
    },
    {
      "cell_type": "code",
      "source": [
        "ruta = 'https://raw.githubusercontent.com/fmoreno4/cd-files/main/eventos_dengue_2020.csv'\n",
        "df1 = pd.read_csv(ruta)\n",
        "df1"
      ],
      "metadata": {
        "colab": {
          "base_uri": "https://localhost:8080/",
          "height": 591
        },
        "id": "zPGp_GESB6D-",
        "outputId": "54f8c165-597d-4cfa-dd69-e0df9cfefc30"
      },
      "execution_count": 148,
      "outputs": [
        {
          "output_type": "execute_result",
          "data": {
            "text/plain": [
              "        ID     fec_not  semana   año  edad_  uni_med_ sexo_  cod_pais_o  \\\n",
              "0        1  17/01/2020       1  2020     25         1     F         170   \n",
              "1        2  10/01/2020       1  2020     24         1     M         170   \n",
              "2        3  12/01/2020       1  2020     58         1     M         170   \n",
              "3        4  12/01/2020       1  2020     29         1     F         170   \n",
              "4        5  10/01/2020       1  2020     56         1     F         170   \n",
              "...    ...         ...     ...   ...    ...       ...   ...         ...   \n",
              "1257  1258   7/03/2020       9  2020     36         1     F         170   \n",
              "1258  1259  13/03/2020       9  2020     42         1     M         170   \n",
              "1259  1260   8/03/2020       9  2020      2         1     M         170   \n",
              "1260  1261  11/03/2020       9  2020     12         1     F         170   \n",
              "1261  1262   9/03/2020       9  2020     14         1     M         170   \n",
              "\n",
              "      cod_dpto_o  cod_mun_o  ...  hipotension  hepatomegalia  \\\n",
              "0             68        276  ...            2              2   \n",
              "1             68        276  ...            2              2   \n",
              "2             68        276  ...            2              2   \n",
              "3             68        276  ...            2              2   \n",
              "4             68        276  ...            2              2   \n",
              "...          ...        ...  ...          ...            ...   \n",
              "1257          68        276  ...            2              2   \n",
              "1258          68        276  ...            2              2   \n",
              "1259          68        276  ...            2              2   \n",
              "1260          68        276  ...            2              2   \n",
              "1261          68        276  ...            2              2   \n",
              "\n",
              "     hemorragia_mucosa hipotermia  caida_plaquetas  acum_liquido  \\\n",
              "0                    2          2                2             2   \n",
              "1                    2          2                2             2   \n",
              "2                    2          2                2             2   \n",
              "3                    2          2                2             2   \n",
              "4                    2          2                1             2   \n",
              "...                ...        ...              ...           ...   \n",
              "1257                 1          2                2             2   \n",
              "1258                 2          2                1             2   \n",
              "1259                 2          2                2             2   \n",
              "1260                 2          2                2             2   \n",
              "1261                 2          2                2             2   \n",
              "\n",
              "      aum_hematocrito                 conducta   latitud   longitud  \n",
              "0                   2           1. Ambulatorio  7.076011 -73.102501  \n",
              "1                   2           1. Ambulatorio  7.079495 -73.105400  \n",
              "2                   2           1. Ambulatorio  7.090290 -73.091003  \n",
              "3                   2           1. Ambulatorio  7.067435 -73.090958  \n",
              "4                   2  2. Hospitalizacion piso  7.066905 -73.104980  \n",
              "...               ...                      ...       ...        ...  \n",
              "1257                2           1. Ambulatorio  7.072610 -73.099487  \n",
              "1258                1  2. Hospitalizacion piso  7.065252 -73.103607  \n",
              "1259                2           1. Ambulatorio  7.091391 -73.103264  \n",
              "1260                2           1. Ambulatorio  7.061083 -73.097000  \n",
              "1261                2  2. Hospitalizacion piso  7.062521 -73.080444  \n",
              "\n",
              "[1262 rows x 51 columns]"
            ],
            "text/html": [
              "\n",
              "  <div id=\"df-bd685675-d843-4b0d-80b5-7cc0c465ad26\">\n",
              "    <div class=\"colab-df-container\">\n",
              "      <div>\n",
              "<style scoped>\n",
              "    .dataframe tbody tr th:only-of-type {\n",
              "        vertical-align: middle;\n",
              "    }\n",
              "\n",
              "    .dataframe tbody tr th {\n",
              "        vertical-align: top;\n",
              "    }\n",
              "\n",
              "    .dataframe thead th {\n",
              "        text-align: right;\n",
              "    }\n",
              "</style>\n",
              "<table border=\"1\" class=\"dataframe\">\n",
              "  <thead>\n",
              "    <tr style=\"text-align: right;\">\n",
              "      <th></th>\n",
              "      <th>ID</th>\n",
              "      <th>fec_not</th>\n",
              "      <th>semana</th>\n",
              "      <th>año</th>\n",
              "      <th>edad_</th>\n",
              "      <th>uni_med_</th>\n",
              "      <th>sexo_</th>\n",
              "      <th>cod_pais_o</th>\n",
              "      <th>cod_dpto_o</th>\n",
              "      <th>cod_mun_o</th>\n",
              "      <th>...</th>\n",
              "      <th>hipotension</th>\n",
              "      <th>hepatomegalia</th>\n",
              "      <th>hemorragia_mucosa</th>\n",
              "      <th>hipotermia</th>\n",
              "      <th>caida_plaquetas</th>\n",
              "      <th>acum_liquido</th>\n",
              "      <th>aum_hematocrito</th>\n",
              "      <th>conducta</th>\n",
              "      <th>latitud</th>\n",
              "      <th>longitud</th>\n",
              "    </tr>\n",
              "  </thead>\n",
              "  <tbody>\n",
              "    <tr>\n",
              "      <th>0</th>\n",
              "      <td>1</td>\n",
              "      <td>17/01/2020</td>\n",
              "      <td>1</td>\n",
              "      <td>2020</td>\n",
              "      <td>25</td>\n",
              "      <td>1</td>\n",
              "      <td>F</td>\n",
              "      <td>170</td>\n",
              "      <td>68</td>\n",
              "      <td>276</td>\n",
              "      <td>...</td>\n",
              "      <td>2</td>\n",
              "      <td>2</td>\n",
              "      <td>2</td>\n",
              "      <td>2</td>\n",
              "      <td>2</td>\n",
              "      <td>2</td>\n",
              "      <td>2</td>\n",
              "      <td>1. Ambulatorio</td>\n",
              "      <td>7.076011</td>\n",
              "      <td>-73.102501</td>\n",
              "    </tr>\n",
              "    <tr>\n",
              "      <th>1</th>\n",
              "      <td>2</td>\n",
              "      <td>10/01/2020</td>\n",
              "      <td>1</td>\n",
              "      <td>2020</td>\n",
              "      <td>24</td>\n",
              "      <td>1</td>\n",
              "      <td>M</td>\n",
              "      <td>170</td>\n",
              "      <td>68</td>\n",
              "      <td>276</td>\n",
              "      <td>...</td>\n",
              "      <td>2</td>\n",
              "      <td>2</td>\n",
              "      <td>2</td>\n",
              "      <td>2</td>\n",
              "      <td>2</td>\n",
              "      <td>2</td>\n",
              "      <td>2</td>\n",
              "      <td>1. Ambulatorio</td>\n",
              "      <td>7.079495</td>\n",
              "      <td>-73.105400</td>\n",
              "    </tr>\n",
              "    <tr>\n",
              "      <th>2</th>\n",
              "      <td>3</td>\n",
              "      <td>12/01/2020</td>\n",
              "      <td>1</td>\n",
              "      <td>2020</td>\n",
              "      <td>58</td>\n",
              "      <td>1</td>\n",
              "      <td>M</td>\n",
              "      <td>170</td>\n",
              "      <td>68</td>\n",
              "      <td>276</td>\n",
              "      <td>...</td>\n",
              "      <td>2</td>\n",
              "      <td>2</td>\n",
              "      <td>2</td>\n",
              "      <td>2</td>\n",
              "      <td>2</td>\n",
              "      <td>2</td>\n",
              "      <td>2</td>\n",
              "      <td>1. Ambulatorio</td>\n",
              "      <td>7.090290</td>\n",
              "      <td>-73.091003</td>\n",
              "    </tr>\n",
              "    <tr>\n",
              "      <th>3</th>\n",
              "      <td>4</td>\n",
              "      <td>12/01/2020</td>\n",
              "      <td>1</td>\n",
              "      <td>2020</td>\n",
              "      <td>29</td>\n",
              "      <td>1</td>\n",
              "      <td>F</td>\n",
              "      <td>170</td>\n",
              "      <td>68</td>\n",
              "      <td>276</td>\n",
              "      <td>...</td>\n",
              "      <td>2</td>\n",
              "      <td>2</td>\n",
              "      <td>2</td>\n",
              "      <td>2</td>\n",
              "      <td>2</td>\n",
              "      <td>2</td>\n",
              "      <td>2</td>\n",
              "      <td>1. Ambulatorio</td>\n",
              "      <td>7.067435</td>\n",
              "      <td>-73.090958</td>\n",
              "    </tr>\n",
              "    <tr>\n",
              "      <th>4</th>\n",
              "      <td>5</td>\n",
              "      <td>10/01/2020</td>\n",
              "      <td>1</td>\n",
              "      <td>2020</td>\n",
              "      <td>56</td>\n",
              "      <td>1</td>\n",
              "      <td>F</td>\n",
              "      <td>170</td>\n",
              "      <td>68</td>\n",
              "      <td>276</td>\n",
              "      <td>...</td>\n",
              "      <td>2</td>\n",
              "      <td>2</td>\n",
              "      <td>2</td>\n",
              "      <td>2</td>\n",
              "      <td>1</td>\n",
              "      <td>2</td>\n",
              "      <td>2</td>\n",
              "      <td>2. Hospitalizacion piso</td>\n",
              "      <td>7.066905</td>\n",
              "      <td>-73.104980</td>\n",
              "    </tr>\n",
              "    <tr>\n",
              "      <th>...</th>\n",
              "      <td>...</td>\n",
              "      <td>...</td>\n",
              "      <td>...</td>\n",
              "      <td>...</td>\n",
              "      <td>...</td>\n",
              "      <td>...</td>\n",
              "      <td>...</td>\n",
              "      <td>...</td>\n",
              "      <td>...</td>\n",
              "      <td>...</td>\n",
              "      <td>...</td>\n",
              "      <td>...</td>\n",
              "      <td>...</td>\n",
              "      <td>...</td>\n",
              "      <td>...</td>\n",
              "      <td>...</td>\n",
              "      <td>...</td>\n",
              "      <td>...</td>\n",
              "      <td>...</td>\n",
              "      <td>...</td>\n",
              "      <td>...</td>\n",
              "    </tr>\n",
              "    <tr>\n",
              "      <th>1257</th>\n",
              "      <td>1258</td>\n",
              "      <td>7/03/2020</td>\n",
              "      <td>9</td>\n",
              "      <td>2020</td>\n",
              "      <td>36</td>\n",
              "      <td>1</td>\n",
              "      <td>F</td>\n",
              "      <td>170</td>\n",
              "      <td>68</td>\n",
              "      <td>276</td>\n",
              "      <td>...</td>\n",
              "      <td>2</td>\n",
              "      <td>2</td>\n",
              "      <td>1</td>\n",
              "      <td>2</td>\n",
              "      <td>2</td>\n",
              "      <td>2</td>\n",
              "      <td>2</td>\n",
              "      <td>1. Ambulatorio</td>\n",
              "      <td>7.072610</td>\n",
              "      <td>-73.099487</td>\n",
              "    </tr>\n",
              "    <tr>\n",
              "      <th>1258</th>\n",
              "      <td>1259</td>\n",
              "      <td>13/03/2020</td>\n",
              "      <td>9</td>\n",
              "      <td>2020</td>\n",
              "      <td>42</td>\n",
              "      <td>1</td>\n",
              "      <td>M</td>\n",
              "      <td>170</td>\n",
              "      <td>68</td>\n",
              "      <td>276</td>\n",
              "      <td>...</td>\n",
              "      <td>2</td>\n",
              "      <td>2</td>\n",
              "      <td>2</td>\n",
              "      <td>2</td>\n",
              "      <td>1</td>\n",
              "      <td>2</td>\n",
              "      <td>1</td>\n",
              "      <td>2. Hospitalizacion piso</td>\n",
              "      <td>7.065252</td>\n",
              "      <td>-73.103607</td>\n",
              "    </tr>\n",
              "    <tr>\n",
              "      <th>1259</th>\n",
              "      <td>1260</td>\n",
              "      <td>8/03/2020</td>\n",
              "      <td>9</td>\n",
              "      <td>2020</td>\n",
              "      <td>2</td>\n",
              "      <td>1</td>\n",
              "      <td>M</td>\n",
              "      <td>170</td>\n",
              "      <td>68</td>\n",
              "      <td>276</td>\n",
              "      <td>...</td>\n",
              "      <td>2</td>\n",
              "      <td>2</td>\n",
              "      <td>2</td>\n",
              "      <td>2</td>\n",
              "      <td>2</td>\n",
              "      <td>2</td>\n",
              "      <td>2</td>\n",
              "      <td>1. Ambulatorio</td>\n",
              "      <td>7.091391</td>\n",
              "      <td>-73.103264</td>\n",
              "    </tr>\n",
              "    <tr>\n",
              "      <th>1260</th>\n",
              "      <td>1261</td>\n",
              "      <td>11/03/2020</td>\n",
              "      <td>9</td>\n",
              "      <td>2020</td>\n",
              "      <td>12</td>\n",
              "      <td>1</td>\n",
              "      <td>F</td>\n",
              "      <td>170</td>\n",
              "      <td>68</td>\n",
              "      <td>276</td>\n",
              "      <td>...</td>\n",
              "      <td>2</td>\n",
              "      <td>2</td>\n",
              "      <td>2</td>\n",
              "      <td>2</td>\n",
              "      <td>2</td>\n",
              "      <td>2</td>\n",
              "      <td>2</td>\n",
              "      <td>1. Ambulatorio</td>\n",
              "      <td>7.061083</td>\n",
              "      <td>-73.097000</td>\n",
              "    </tr>\n",
              "    <tr>\n",
              "      <th>1261</th>\n",
              "      <td>1262</td>\n",
              "      <td>9/03/2020</td>\n",
              "      <td>9</td>\n",
              "      <td>2020</td>\n",
              "      <td>14</td>\n",
              "      <td>1</td>\n",
              "      <td>M</td>\n",
              "      <td>170</td>\n",
              "      <td>68</td>\n",
              "      <td>276</td>\n",
              "      <td>...</td>\n",
              "      <td>2</td>\n",
              "      <td>2</td>\n",
              "      <td>2</td>\n",
              "      <td>2</td>\n",
              "      <td>2</td>\n",
              "      <td>2</td>\n",
              "      <td>2</td>\n",
              "      <td>2. Hospitalizacion piso</td>\n",
              "      <td>7.062521</td>\n",
              "      <td>-73.080444</td>\n",
              "    </tr>\n",
              "  </tbody>\n",
              "</table>\n",
              "<p>1262 rows × 51 columns</p>\n",
              "</div>\n",
              "      <button class=\"colab-df-convert\" onclick=\"convertToInteractive('df-bd685675-d843-4b0d-80b5-7cc0c465ad26')\"\n",
              "              title=\"Convert this dataframe to an interactive table.\"\n",
              "              style=\"display:none;\">\n",
              "        \n",
              "  <svg xmlns=\"http://www.w3.org/2000/svg\" height=\"24px\"viewBox=\"0 0 24 24\"\n",
              "       width=\"24px\">\n",
              "    <path d=\"M0 0h24v24H0V0z\" fill=\"none\"/>\n",
              "    <path d=\"M18.56 5.44l.94 2.06.94-2.06 2.06-.94-2.06-.94-.94-2.06-.94 2.06-2.06.94zm-11 1L8.5 8.5l.94-2.06 2.06-.94-2.06-.94L8.5 2.5l-.94 2.06-2.06.94zm10 10l.94 2.06.94-2.06 2.06-.94-2.06-.94-.94-2.06-.94 2.06-2.06.94z\"/><path d=\"M17.41 7.96l-1.37-1.37c-.4-.4-.92-.59-1.43-.59-.52 0-1.04.2-1.43.59L10.3 9.45l-7.72 7.72c-.78.78-.78 2.05 0 2.83L4 21.41c.39.39.9.59 1.41.59.51 0 1.02-.2 1.41-.59l7.78-7.78 2.81-2.81c.8-.78.8-2.07 0-2.86zM5.41 20L4 18.59l7.72-7.72 1.47 1.35L5.41 20z\"/>\n",
              "  </svg>\n",
              "      </button>\n",
              "      \n",
              "  <style>\n",
              "    .colab-df-container {\n",
              "      display:flex;\n",
              "      flex-wrap:wrap;\n",
              "      gap: 12px;\n",
              "    }\n",
              "\n",
              "    .colab-df-convert {\n",
              "      background-color: #E8F0FE;\n",
              "      border: none;\n",
              "      border-radius: 50%;\n",
              "      cursor: pointer;\n",
              "      display: none;\n",
              "      fill: #1967D2;\n",
              "      height: 32px;\n",
              "      padding: 0 0 0 0;\n",
              "      width: 32px;\n",
              "    }\n",
              "\n",
              "    .colab-df-convert:hover {\n",
              "      background-color: #E2EBFA;\n",
              "      box-shadow: 0px 1px 2px rgba(60, 64, 67, 0.3), 0px 1px 3px 1px rgba(60, 64, 67, 0.15);\n",
              "      fill: #174EA6;\n",
              "    }\n",
              "\n",
              "    [theme=dark] .colab-df-convert {\n",
              "      background-color: #3B4455;\n",
              "      fill: #D2E3FC;\n",
              "    }\n",
              "\n",
              "    [theme=dark] .colab-df-convert:hover {\n",
              "      background-color: #434B5C;\n",
              "      box-shadow: 0px 1px 3px 1px rgba(0, 0, 0, 0.15);\n",
              "      filter: drop-shadow(0px 1px 2px rgba(0, 0, 0, 0.3));\n",
              "      fill: #FFFFFF;\n",
              "    }\n",
              "  </style>\n",
              "\n",
              "      <script>\n",
              "        const buttonEl =\n",
              "          document.querySelector('#df-bd685675-d843-4b0d-80b5-7cc0c465ad26 button.colab-df-convert');\n",
              "        buttonEl.style.display =\n",
              "          google.colab.kernel.accessAllowed ? 'block' : 'none';\n",
              "\n",
              "        async function convertToInteractive(key) {\n",
              "          const element = document.querySelector('#df-bd685675-d843-4b0d-80b5-7cc0c465ad26');\n",
              "          const dataTable =\n",
              "            await google.colab.kernel.invokeFunction('convertToInteractive',\n",
              "                                                     [key], {});\n",
              "          if (!dataTable) return;\n",
              "\n",
              "          const docLinkHtml = 'Like what you see? Visit the ' +\n",
              "            '<a target=\"_blank\" href=https://colab.research.google.com/notebooks/data_table.ipynb>data table notebook</a>'\n",
              "            + ' to learn more about interactive tables.';\n",
              "          element.innerHTML = '';\n",
              "          dataTable['output_type'] = 'display_data';\n",
              "          await google.colab.output.renderOutput(dataTable, element);\n",
              "          const docLink = document.createElement('div');\n",
              "          docLink.innerHTML = docLinkHtml;\n",
              "          element.appendChild(docLink);\n",
              "        }\n",
              "      </script>\n",
              "    </div>\n",
              "  </div>\n",
              "  "
            ]
          },
          "metadata": {},
          "execution_count": 148
        }
      ]
    },
    {
      "cell_type": "code",
      "source": [
        "df1.isnull().sum()"
      ],
      "metadata": {
        "colab": {
          "base_uri": "https://localhost:8080/"
        },
        "id": "sld_KV0F9xSI",
        "outputId": "92587743-2981-4d9c-9fe8-2ca60243c706"
      },
      "execution_count": 149,
      "outputs": [
        {
          "output_type": "execute_result",
          "data": {
            "text/plain": [
              "ID                      0\n",
              "fec_not                 0\n",
              "semana                  0\n",
              "año                     0\n",
              "edad_                   0\n",
              "uni_med_                0\n",
              "sexo_                   0\n",
              "cod_pais_o              0\n",
              "cod_dpto_o              0\n",
              "cod_mun_o               0\n",
              "area_                   0\n",
              "ocupacion_              0\n",
              "tip_ss_                 0\n",
              "cod_ase_                9\n",
              "gp_discapa              0\n",
              "gp_desplaz              0\n",
              "gp_migrant              0\n",
              "gp_carcela              0\n",
              "gp_gestan               0\n",
              "gp_calle                0\n",
              "gp_psiquia              0\n",
              "gp_vic_vio              0\n",
              "fecha_contagio          2\n",
              "inicio_sintomas         2\n",
              "pac_hos_                0\n",
              "fec_hos_             1014\n",
              "condicion_final         0\n",
              "fecha_defuncion      1262\n",
              "fecha_nacimiento        0\n",
              "certif_defuncion     1262\n",
              "familiar_sintomas       0\n",
              "fiebre                  0\n",
              "cefalea                 0\n",
              "dolor_retroocular       0\n",
              "mialgias                0\n",
              "artralgia               0\n",
              "erupcion                0\n",
              "dolor_abdomen           0\n",
              "vomito                  0\n",
              "diarrea                 0\n",
              "somnolencia             0\n",
              "hipotension             0\n",
              "hepatomegalia           0\n",
              "hemorragia_mucosa       0\n",
              "hipotermia              0\n",
              "caida_plaquetas         0\n",
              "acum_liquido            0\n",
              "aum_hematocrito         0\n",
              "conducta                0\n",
              "latitud                 0\n",
              "longitud                0\n",
              "dtype: int64"
            ]
          },
          "metadata": {},
          "execution_count": 149
        }
      ]
    },
    {
      "cell_type": "code",
      "source": [
        "# df1.drop('fecha_defuncion', axis=1, inplace=True)\n",
        "# df1.drop('certif_defuncion', axis=1, inplace=True)\n",
        "# df1.drop('fec_hos_', axis=1, inplace=True)\n",
        "# df1.drop('fecha_contagio', axis=1, inplace=True)\n",
        "df = df1.drop(columns=['fecha_defuncion', 'certif_defuncion','fec_hos_','fec_not','fecha_contagio','fecha_nacimiento','ID','semana','año','cod_ase_','tip_ss_','inicio_sintomas','conducta'])"
      ],
      "metadata": {
        "id": "AWInK5OPCFkr"
      },
      "execution_count": 177,
      "outputs": []
    },
    {
      "cell_type": "code",
      "source": [
        "# df1.drop('fecha_nacimiento ', axis=1, inplace=True)\n",
        "# df1.drop('ID', axis=1, inplace=True)"
      ],
      "metadata": {
        "id": "-hnBMdoOOgm0"
      },
      "execution_count": 179,
      "outputs": []
    },
    {
      "cell_type": "code",
      "source": [
        "df.isnull().sum()"
      ],
      "metadata": {
        "colab": {
          "base_uri": "https://localhost:8080/"
        },
        "id": "Rh_O0HlA90W4",
        "outputId": "144f8c87-b270-45aa-9104-7c45a9d9c618"
      },
      "execution_count": 180,
      "outputs": [
        {
          "output_type": "execute_result",
          "data": {
            "text/plain": [
              "edad_                0\n",
              "uni_med_             0\n",
              "sexo_                0\n",
              "cod_pais_o           0\n",
              "cod_dpto_o           0\n",
              "cod_mun_o            0\n",
              "area_                0\n",
              "ocupacion_           0\n",
              "gp_discapa           0\n",
              "gp_desplaz           0\n",
              "gp_migrant           0\n",
              "gp_carcela           0\n",
              "gp_gestan            0\n",
              "gp_calle             0\n",
              "gp_psiquia           0\n",
              "gp_vic_vio           0\n",
              "pac_hos_             0\n",
              "condicion_final      0\n",
              "familiar_sintomas    0\n",
              "fiebre               0\n",
              "cefalea              0\n",
              "dolor_retroocular    0\n",
              "mialgias             0\n",
              "artralgia            0\n",
              "erupcion             0\n",
              "dolor_abdomen        0\n",
              "vomito               0\n",
              "diarrea              0\n",
              "somnolencia          0\n",
              "hipotension          0\n",
              "hepatomegalia        0\n",
              "hemorragia_mucosa    0\n",
              "hipotermia           0\n",
              "caida_plaquetas      0\n",
              "acum_liquido         0\n",
              "aum_hematocrito      0\n",
              "latitud              0\n",
              "longitud             0\n",
              "dtype: int64"
            ]
          },
          "metadata": {},
          "execution_count": 180
        }
      ]
    },
    {
      "cell_type": "code",
      "source": [
        "df['sexo_'].replace({'M': 0, 'F': 1}, inplace=True)\n",
        "print(df1['sexo_'])"
      ],
      "metadata": {
        "colab": {
          "base_uri": "https://localhost:8080/"
        },
        "id": "7Yo7b_LL_9_2",
        "outputId": "0eadf61e-7aa0-49ec-a70e-0276a2f617b6"
      },
      "execution_count": 181,
      "outputs": [
        {
          "output_type": "stream",
          "name": "stdout",
          "text": [
            "0       F\n",
            "1       M\n",
            "2       M\n",
            "3       F\n",
            "4       F\n",
            "       ..\n",
            "1257    F\n",
            "1258    M\n",
            "1259    M\n",
            "1260    F\n",
            "1261    M\n",
            "Name: sexo_, Length: 1262, dtype: object\n"
          ]
        }
      ]
    },
    {
      "cell_type": "code",
      "source": [
        "df.dtypes"
      ],
      "metadata": {
        "colab": {
          "base_uri": "https://localhost:8080/"
        },
        "id": "Xqx8HnuZPGcu",
        "outputId": "ed9599a0-25da-4254-9abb-f6a3a9b40cf6"
      },
      "execution_count": 182,
      "outputs": [
        {
          "output_type": "execute_result",
          "data": {
            "text/plain": [
              "edad_                  int64\n",
              "uni_med_               int64\n",
              "sexo_                  int64\n",
              "cod_pais_o             int64\n",
              "cod_dpto_o             int64\n",
              "cod_mun_o              int64\n",
              "area_                  int64\n",
              "ocupacion_             int64\n",
              "gp_discapa             int64\n",
              "gp_desplaz             int64\n",
              "gp_migrant             int64\n",
              "gp_carcela             int64\n",
              "gp_gestan              int64\n",
              "gp_calle               int64\n",
              "gp_psiquia             int64\n",
              "gp_vic_vio             int64\n",
              "pac_hos_               int64\n",
              "condicion_final        int64\n",
              "familiar_sintomas      int64\n",
              "fiebre                 int64\n",
              "cefalea                int64\n",
              "dolor_retroocular      int64\n",
              "mialgias               int64\n",
              "artralgia              int64\n",
              "erupcion               int64\n",
              "dolor_abdomen          int64\n",
              "vomito                 int64\n",
              "diarrea                int64\n",
              "somnolencia            int64\n",
              "hipotension            int64\n",
              "hepatomegalia          int64\n",
              "hemorragia_mucosa      int64\n",
              "hipotermia             int64\n",
              "caida_plaquetas        int64\n",
              "acum_liquido           int64\n",
              "aum_hematocrito        int64\n",
              "latitud              float64\n",
              "longitud             float64\n",
              "dtype: object"
            ]
          },
          "metadata": {},
          "execution_count": 182
        }
      ]
    },
    {
      "cell_type": "code",
      "source": [
        "# array = np.concatenate((df.columns.values.reshape(1,-1), df.values), axis=0)\n",
        "matriz=df.values"
      ],
      "metadata": {
        "id": "-c0TSM2AC4d_"
      },
      "execution_count": 187,
      "outputs": []
    },
    {
      "cell_type": "code",
      "source": [
        "# print(array)\n",
        "print(matriz)"
      ],
      "metadata": {
        "colab": {
          "base_uri": "https://localhost:8080/"
        },
        "id": "pH9BggeYCRxp",
        "outputId": "f72688ea-0927-427b-e2ac-12ac34a86503"
      },
      "execution_count": 188,
      "outputs": [
        {
          "output_type": "stream",
          "name": "stdout",
          "text": [
            "[[ 25.           1.           1.         ...   2.           7.07601118\n",
            "  -73.10250092]\n",
            " [ 24.           1.           0.         ...   2.           7.07949543\n",
            "  -73.10540009]\n",
            " [ 58.           1.           0.         ...   2.           7.09029007\n",
            "  -73.09100342]\n",
            " ...\n",
            " [  2.           1.           0.         ...   2.           7.09139061\n",
            "  -73.10326385]\n",
            " [ 12.           1.           1.         ...   2.           7.06108332\n",
            "  -73.09700012]\n",
            " [ 14.           1.           0.         ...   2.           7.06252098\n",
            "  -73.08044434]]\n"
          ]
        }
      ]
    },
    {
      "cell_type": "code",
      "source": [
        "datos = matriz[:, :].astype(float)\n",
        "# crear un objeto KMeans y ajustar el modelo a los datos\n",
        "kmeans = KMeans(n_clusters=3, random_state=0)\n",
        "kmeans.fit(datos)\n",
        "\n",
        "# obtener las etiquetas de cluster asignadas a cada fila de datos\n",
        "etiquetas = kmeans.predict(datos)\n",
        "\n",
        "# agregar las etiquetas de cluster como una nueva columna en la matriz original\n",
        "array_con_etiquetas = np.concatenate((matriz, etiquetas.reshape(-1,1)), axis=1)\n",
        "\n",
        "# convertir la matriz con etiquetas de cluster de nuevo a un dataframe\n",
        "df_con_etiquetas = pd.DataFrame(array_con_etiquetas[1:], columns=array_con_etiquetas[0])"
      ],
      "metadata": {
        "colab": {
          "base_uri": "https://localhost:8080/"
        },
        "id": "sL8U93r2CJk3",
        "outputId": "f3e828e1-2380-499b-9aeb-591956e522a4"
      },
      "execution_count": 191,
      "outputs": [
        {
          "output_type": "stream",
          "name": "stderr",
          "text": [
            "/usr/local/lib/python3.9/dist-packages/sklearn/cluster/_kmeans.py:870: FutureWarning: The default value of `n_init` will change from 10 to 'auto' in 1.4. Set the value of `n_init` explicitly to suppress the warning\n",
            "  warnings.warn(\n"
          ]
        }
      ]
    },
    {
      "cell_type": "code",
      "source": [
        "scaler = StandardScaler()\n",
        "scaled_features = scaler.fit_transform(df_con_etiquetas)\n",
        "scaled_features[:]"
      ],
      "metadata": {
        "colab": {
          "base_uri": "https://localhost:8080/"
        },
        "id": "5asgy0vWCO8E",
        "outputId": "b5cbadca-3724-4cbc-c92f-6105f26cbeba"
      },
      "execution_count": 192,
      "outputs": [
        {
          "output_type": "execute_result",
          "data": {
            "text/plain": [
              "array([[-0.31439208, -0.19157791, -0.95881713, ...,  0.17080494,\n",
              "        -1.26587516, -0.5477609 ],\n",
              "       [ 1.35053455, -0.19157791, -0.95881713, ...,  1.16793417,\n",
              "         0.53643582, -0.5477609 ],\n",
              "       [-0.06954993, -0.19157791,  1.04295175, ..., -0.94326822,\n",
              "         0.542167  ,  0.98039506],\n",
              "       ...,\n",
              "       [-1.39169754, -0.19157791, -0.95881713, ...,  1.26959394,\n",
              "        -0.99844049, -0.5477609 ],\n",
              "       [-0.90201324, -0.19157791,  1.04295175, ..., -1.52997027,\n",
              "        -0.21428766, -0.5477609 ],\n",
              "       [-0.80407638, -0.19157791, -0.95881713, ..., -1.39716947,\n",
              "         1.85832108, -0.5477609 ]])"
            ]
          },
          "metadata": {},
          "execution_count": 192
        }
      ]
    },
    {
      "cell_type": "code",
      "source": [
        "kmeans.inertia_"
      ],
      "metadata": {
        "id": "mUdMEDHYCRkh",
        "colab": {
          "base_uri": "https://localhost:8080/"
        },
        "outputId": "b2421798-6930-46a1-bff1-7922bd3580e1"
      },
      "execution_count": 193,
      "outputs": [
        {
          "output_type": "execute_result",
          "data": {
            "text/plain": [
              "497210766.6640768"
            ]
          },
          "metadata": {},
          "execution_count": 193
        }
      ]
    },
    {
      "cell_type": "code",
      "source": [
        "kmeans.cluster_centers_"
      ],
      "metadata": {
        "id": "15cJseVeCSas",
        "colab": {
          "base_uri": "https://localhost:8080/"
        },
        "outputId": "b4c4b50b-0cab-4376-cb92-9e44fae017b0"
      },
      "execution_count": 194,
      "outputs": [
        {
          "output_type": "execute_result",
          "data": {
            "text/plain": [
              "array([[ 2.85792291e+01,  1.05353319e+00,  4.90364026e-01,\n",
              "         1.70000000e+02,  6.78158458e+01,  2.74346895e+02,\n",
              "         1.01927195e+00,  9.85262420e+03,  1.99250535e+00,\n",
              "         1.99250535e+00,  1.98286938e+00,  1.99785867e+00,\n",
              "         1.97644540e+00,  1.99892934e+00,  1.99678801e+00,\n",
              "         1.99143469e+00,  1.75802998e+00,  1.00000000e+00,\n",
              "         1.90578158e+00,  1.00214133e+00,  1.15845824e+00,\n",
              "         1.54925054e+00,  1.15845824e+00,  1.30942184e+00,\n",
              "         1.46573876e+00,  1.82441113e+00,  1.82869379e+00,\n",
              "         1.88115632e+00,  1.98715203e+00,  1.98929336e+00,\n",
              "         1.99571734e+00,  1.97323340e+00,  1.99678801e+00,\n",
              "         1.89614561e+00,  1.98822270e+00,  1.97002141e+00,\n",
              "         7.07781944e+00, -7.30953329e+01],\n",
              "       [ 3.37586207e+01,  1.00000000e+00,  4.82758621e-01,\n",
              "         1.70000000e+02,  6.80000000e+01,  2.71349754e+02,\n",
              "         1.00492611e+00,  2.94337931e+03,  1.99014778e+00,\n",
              "         2.00000000e+00,  1.99014778e+00,  2.00000000e+00,\n",
              "         1.99014778e+00,  2.00000000e+00,  1.99014778e+00,\n",
              "         1.99014778e+00,  1.95566502e+00,  1.00000000e+00,\n",
              "         1.81280788e+00,  1.00000000e+00,  1.09359606e+00,\n",
              "         1.46305419e+00,  1.14778325e+00,  1.13793103e+00,\n",
              "         1.33004926e+00,  1.90640394e+00,  1.92118227e+00,\n",
              "         1.93103448e+00,  1.98522167e+00,  2.00000000e+00,\n",
              "         2.00000000e+00,  1.99014778e+00,  2.00000000e+00,\n",
              "         1.95073892e+00,  2.00000000e+00,  1.97044335e+00,\n",
              "         7.07543216e+00, -7.30961678e+01],\n",
              "       [ 3.87120000e+01,  1.00000000e+00,  3.92000000e-01,\n",
              "         1.70000000e+02,  6.80000000e+01,  2.76000000e+02,\n",
              "         1.02400000e+00,  5.97060800e+03,  2.00000000e+00,\n",
              "         1.99200000e+00,  1.97600000e+00,  2.00000000e+00,\n",
              "         2.00000000e+00,  2.00000000e+00,  1.97600000e+00,\n",
              "         1.99200000e+00,  1.89600000e+00,  1.00000000e+00,\n",
              "         1.83200000e+00,  1.00000000e+00,  1.08000000e+00,\n",
              "         1.44800000e+00,  1.12800000e+00,  1.14400000e+00,\n",
              "         1.33600000e+00,  1.89600000e+00,  1.91200000e+00,\n",
              "         1.91200000e+00,  1.98400000e+00,  1.98400000e+00,\n",
              "         1.99200000e+00,  1.98400000e+00,  2.00000000e+00,\n",
              "         1.89600000e+00,  1.99200000e+00,  1.98400000e+00,\n",
              "         7.07993574e+00, -7.30935858e+01]])"
            ]
          },
          "metadata": {},
          "execution_count": 194
        }
      ]
    },
    {
      "cell_type": "code",
      "source": [
        "kmeans.n_iter_"
      ],
      "metadata": {
        "colab": {
          "base_uri": "https://localhost:8080/"
        },
        "id": "eRNENBJWSQYQ",
        "outputId": "3b4a40a7-6ff0-4498-a4ed-113d252b96e6"
      },
      "execution_count": 195,
      "outputs": [
        {
          "output_type": "execute_result",
          "data": {
            "text/plain": [
              "3"
            ]
          },
          "metadata": {},
          "execution_count": 195
        }
      ]
    },
    {
      "cell_type": "code",
      "source": [
        "kmeans_kwargs = {\n",
        "  \"init\": \"k-means++\",\n",
        "  \"n_init\": 10,\n",
        "  \"max_iter\": 300,\n",
        "  \"random_state\": 42,\n",
        "}\n",
        "\n",
        "sse = []\n",
        "for k in range(1, 11):\n",
        "  kmeans = KMeans(n_clusters=k, **kmeans_kwargs)\n",
        "  kmeans.fit(df_con_etiquetas)\n",
        "  sse.append(kmeans.inertia_)"
      ],
      "metadata": {
        "id": "38ZmEPSBCWYC"
      },
      "execution_count": 196,
      "outputs": []
    },
    {
      "cell_type": "code",
      "source": [
        "plt.style.use(\"fivethirtyeight\")\n",
        "plt.plot(range(1, 11), sse)\n",
        "plt.xticks(range(1, 11))\n",
        "plt.xlabel(\"Number of Clusters\")\n",
        "plt.ylabel(\"SSE\")\n",
        "plt.show()"
      ],
      "metadata": {
        "colab": {
          "base_uri": "https://localhost:8080/",
          "height": 497
        },
        "id": "vW86QqO0CgMH",
        "outputId": "154d0c88-da5f-4abb-ee7f-a1cd3a55687a"
      },
      "execution_count": 197,
      "outputs": [
        {
          "output_type": "display_data",
          "data": {
            "text/plain": [
              "<Figure size 640x480 with 1 Axes>"
            ],
            "image/png": "[encoded data removed]"
          },
          "metadata": {}
        }
      ]
    },
    {
      "cell_type": "code",
      "source": [
        "kl = KneeLocator(\n",
        "  range(1, 11), sse, curve=\"convex\", direction=\"decreasing\"\n",
        ")\n",
        "kl.elbow"
      ],
      "metadata": {
        "colab": {
          "base_uri": "https://localhost:8080/"
        },
        "id": "hnM4KpEqSfhF",
        "outputId": "4d431dad-5d8a-4a3c-99da-763f49af2e23"
      },
      "execution_count": 198,
      "outputs": [
        {
          "output_type": "execute_result",
          "data": {
            "text/plain": [
              "2"
            ]
          },
          "metadata": {},
          "execution_count": 198
        }
      ]
    },
    {
      "cell_type": "code",
      "source": [
        "silhouette_coefficients = []\n",
        "\n",
        "#Aquí se inicia con 2 cluester\n",
        "for k in range(2, 11):\n",
        "  kmeans = KMeans(n_clusters=k, **kmeans_kwargs)\n",
        "  kmeans.fit(scaled_features)\n",
        "  score = silhouette_score(scaled_features, kmeans.labels_)\n",
        "  silhouette_coefficients.append(score)"
      ],
      "metadata": {
        "id": "gQIY8WCnSiG1"
      },
      "execution_count": 199,
      "outputs": []
    },
    {
      "cell_type": "code",
      "source": [
        "plt.style.use(\"fivethirtyeight\")\n",
        "plt.plot(range(2, 11), silhouette_coefficients)\n",
        "plt.xticks(range(2, 11))\n",
        "plt.xlabel(\"Number of Clusters\")\n",
        "plt.ylabel(\"Silhouette Coefficient\")\n",
        "plt.show()"
      ],
      "metadata": {
        "colab": {
          "base_uri": "https://localhost:8080/",
          "height": 478
        },
        "id": "NXw3_wX1SmOU",
        "outputId": "3ee35fc3-bc4b-4836-f3e7-1eed2b915749"
      },
      "execution_count": 200,
      "outputs": [
        {
          "output_type": "display_data",
          "data": {
            "text/plain": [
              "<Figure size 640x480 with 1 Axes>"
            ],
            "image/png": "[encoded data removed]"
          },
          "metadata": {}
        }
      ]
    }
  ]
}