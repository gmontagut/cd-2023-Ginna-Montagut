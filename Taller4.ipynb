{
  "nbformat": 4,
  "nbformat_minor": 0,
  "metadata": {
    "colab": {
      "provenance": []
    },
    "kernelspec": {
      "name": "python3",
      "display_name": "Python 3"
    },
    "language_info": {
      "name": "python"
    }
  },
  "cells": [
    {
      "cell_type": "code",
      "execution_count": 1,
      "metadata": {
        "id": "84fjPCWcjU9J"
      },
      "outputs": [],
      "source": [
        "import math as m\n",
        "import random as r\n",
        "\n",
        "def distancia(x, y):\n",
        "  return m.sqrt(x**2 + y**2)"
      ]
    },
    {
      "cell_type": "code",
      "source": [
        "#Explicación de clase\n",
        "\n",
        "cont = 0\n",
        "puntosLado = 10000\n",
        "paso = 1 / (puntosLado - 1)\n",
        "\n",
        "i = 0\n",
        "while i <= 1:\n",
        "  j = 0\n",
        "  while j <= 1:\n",
        "    if distancia(i, j) <= 1:\n",
        "      cont += 1\n",
        "    j+= paso\n",
        "  i += paso\n",
        "\n",
        "print(\"Puntos:\", cont)\n",
        "print(\"Estimación de pi:\", (cont * 4 / (puntosLado**2)))"
      ],
      "metadata": {
        "colab": {
          "base_uri": "https://localhost:8080/"
        },
        "id": "m2kKm4YnkI6O",
        "outputId": "a17afd74-b1df-4404-e958-78cc1a34392a"
      },
      "execution_count": 8,
      "outputs": [
        {
          "output_type": "stream",
          "name": "stdout",
          "text": [
            "Puntos: 78534021\n",
            "Estimación de pi: 3.14136084\n"
          ]
        }
      ]
    },
    {
      "cell_type": "code",
      "source": [
        "#Ejercicio de clase\n",
        "\n",
        "puntosLado = 10000\n",
        "x=[r.uniform(0,1) for i in range (0,puntosLado)]\n",
        "y=[r.uniform(0,1) for i in range (0,puntosLado)]\n",
        "cont=0\n",
        "for i in x:\n",
        "  for j in y:\n",
        "    if distancia(i,j) <=1:\n",
        "        cont+=1\n",
        "print(\"Puntos:\", cont)\n",
        "print(\"Estimación de pi:\", (cont * 4 / (puntosLado**2)))"
      ],
      "metadata": {
        "id": "oth4zjYKy5hv",
        "colab": {
          "base_uri": "https://localhost:8080/"
        },
        "outputId": "2726df13-e95c-492c-de1f-6a4aeb4fe067"
      },
      "execution_count": 11,
      "outputs": [
        {
          "output_type": "stream",
          "name": "stdout",
          "text": [
            "Puntos: 78592881\n",
            "Estimación de pi: 3.14371524\n"
          ]
        }
      ]
    }
  ]
}